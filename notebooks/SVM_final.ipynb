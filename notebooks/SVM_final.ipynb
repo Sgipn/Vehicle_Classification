{
 "cells": [
  {
   "cell_type": "code",
   "execution_count": 1,
   "id": "0f60fe15",
   "metadata": {},
   "outputs": [
    {
     "name": "stderr",
     "output_type": "stream",
     "text": [
      "Intel(R) Extension for Scikit-learn* enabled (https://github.com/intel/scikit-learn-intelex)\n"
     ]
    }
   ],
   "source": [
    "#Importing the necessary packages and libaries\n",
    "from sklearnex import patch_sklearn\n",
    "patch_sklearn()\n",
    "from sklearn.metrics import confusion_matrix\n",
    "from sklearn.model_selection import train_test_split\n",
    "from sklearn import svm, datasets\n",
    "import matplotlib.pyplot as plt\n",
    "import numpy as np\n",
    "from sklearn import metrics\n",
    "import seaborn as sns\n",
    "from sklearn.model_selection import GridSearchCV\n",
    "from sklearn.preprocessing import OneHotEncoder"
   ]
  },
  {
   "cell_type": "code",
   "execution_count": 2,
   "id": "005597c3",
   "metadata": {},
   "outputs": [],
   "source": [
    "#load in image matrix data from .npz files:\n",
    "npz_x = np.load(\"dat_standard.npz\")\n",
    "x_all =  npz_x[\"arr_0\"] \n",
    "\n",
    "#load in response vector from .npz files:\n",
    "npz_y = np.load(\"response.npz\")\n",
    "y_all = npz_y[\"arr_0\"]"
   ]
  },
  {
   "cell_type": "code",
   "execution_count": 3,
   "id": "f2929ffb",
   "metadata": {},
   "outputs": [
    {
     "name": "stdout",
     "output_type": "stream",
     "text": [
      "(25231, 7500)\n",
      "(25231,)\n"
     ]
    }
   ],
   "source": [
    "#verify dimensions (x should be 25231*7500, y should be 25231):\n",
    "print(np.shape(x_all))\n",
    "print(np.shape(y_all))"
   ]
  },
  {
   "cell_type": "code",
   "execution_count": 4,
   "id": "3abd3e3d",
   "metadata": {},
   "outputs": [
    {
     "data": {
      "text/plain": [
       "array([ 6,  8, 15, 17, 20], dtype=int8)"
      ]
     },
     "execution_count": 4,
     "metadata": {},
     "output_type": "execute_result"
    }
   ],
   "source": [
    "np.unique(y_all)"
   ]
  },
  {
   "cell_type": "code",
   "execution_count": 5,
   "id": "71560836",
   "metadata": {},
   "outputs": [
    {
     "name": "stdout",
     "output_type": "stream",
     "text": [
      "(20184, 7500)\n",
      "(5047, 7500)\n",
      "(20184,)\n",
      "(5047,)\n"
     ]
    }
   ],
   "source": [
    "#split testing and training data:\n",
    "x_train,x_test,y_train,y_test = train_test_split(x_all,y_all, test_size = 0.2,random_state=2022, stratify = y_all)\n",
    "\n",
    "#print out shape of data subsets:\n",
    "print(np.shape(x_train))\n",
    "print(np.shape(x_test))\n",
    "print(np.shape(y_train))\n",
    "print(np.shape(y_test))"
   ]
  },
  {
   "cell_type": "markdown",
   "id": "09b50bf6",
   "metadata": {},
   "source": [
    "#### Create and Fit Models"
   ]
  },
  {
   "cell_type": "code",
   "execution_count": 6,
   "id": "2c832f56",
   "metadata": {},
   "outputs": [],
   "source": [
    "# Create the Models\n",
    "linear_mod = svm.SVC(kernel='linear', C=1, decision_function_shape='ovr')\n",
    "rbf_mod = svm.SVC(kernel='rbf', gamma=1, C=1, decision_function_shape='ovr')\n",
    "poly_mod = svm.SVC(kernel='poly', degree=3, C=1, decision_function_shape='ovr')\n",
    "sig_mod = svm.SVC(kernel='sigmoid', C=1, decision_function_shape='ovr')"
   ]
  },
  {
   "cell_type": "code",
   "execution_count": 7,
   "id": "c957300a",
   "metadata": {},
   "outputs": [
    {
     "name": "stdout",
     "output_type": "stream",
     "text": [
      "CPU times: user 24min 40s, sys: 10.9 s, total: 24min 51s\n",
      "Wall time: 4min 25s\n"
     ]
    },
    {
     "data": {
      "text/plain": [
       "SVC(C=1, kernel='sigmoid')"
      ]
     },
     "execution_count": 7,
     "metadata": {},
     "output_type": "execute_result"
    }
   ],
   "source": [
    "%%time\n",
    "# Fit the Models\n",
    "linear_mod.fit(x_train, y_train)\n",
    "rbf_mod.fit(x_train, y_train)\n",
    "poly_mod.fit(x_train, y_train)\n",
    "sig_mod.fit(x_train, y_train)"
   ]
  },
  {
   "cell_type": "code",
   "execution_count": 8,
   "id": "9559363c",
   "metadata": {},
   "outputs": [],
   "source": [
    "# Test accuracy on test data\n",
    "linear_pred = linear_mod.predict(x_test)\n",
    "poly_pred = poly_mod.predict(x_test)\n",
    "rbf_pred = rbf_mod.predict(x_test)\n",
    "sig_pred = sig_mod.predict(x_test)"
   ]
  },
  {
   "cell_type": "code",
   "execution_count": 9,
   "id": "682cb28b",
   "metadata": {},
   "outputs": [],
   "source": [
    "# Retrieve the accuracy and print it for all 4 kernel functions\n",
    "accuracy_lin = linear_mod.score(x_test, y_test)\n",
    "accuracy_poly = poly_mod.score(x_test, y_test)\n",
    "accuracy_rbf = rbf_mod.score(x_test, y_test)\n",
    "accuracy_sig = sig_mod.score(x_test, y_test)"
   ]
  },
  {
   "cell_type": "code",
   "execution_count": 10,
   "id": "fc2a5282",
   "metadata": {},
   "outputs": [
    {
     "name": "stdout",
     "output_type": "stream",
     "text": [
      "Accuracy Linear Kernel: 0.3400039627501486\n",
      "Accuracy Polynomial Kernel: 0.494947493560531\n",
      "Accuracy Radial Basis Kernel: 0.2603526847632257\n",
      "Accuracy Sigmoid Kernel: 0.3130572617396473\n"
     ]
    }
   ],
   "source": [
    "print(\"Accuracy Linear Kernel:\", accuracy_lin)\n",
    "print(\"Accuracy Polynomial Kernel:\", accuracy_poly)\n",
    "print(\"Accuracy Radial Basis Kernel:\", accuracy_rbf)\n",
    "print(\"Accuracy Sigmoid Kernel:\", accuracy_sig)"
   ]
  },
  {
   "cell_type": "code",
   "execution_count": 11,
   "id": "7949b436",
   "metadata": {
    "scrolled": true
   },
   "outputs": [
    {
     "name": "stdout",
     "output_type": "stream",
     "text": [
      "[[437 165 213 120 166]\n",
      " [191 254 100 141 164]\n",
      " [288 144 300  84 141]\n",
      " [201 199 109 427  84]\n",
      " [278 243 197 103 298]]\n",
      "[[674  45 100 118 164]\n",
      " [203 238  26 123 260]\n",
      " [404  58 291  78 126]\n",
      " [190  39   9 715  67]\n",
      " [294 112  52  81 580]]\n",
      "[[  89    0    3    0 1009]\n",
      " [   0   13    0    0  837]\n",
      " [   2    0   84    0  871]\n",
      " [   0    6    0   16  998]\n",
      " [   0    7    0    0 1112]]\n",
      "[[388  60 126 270 257]\n",
      " [297 131  40 194 188]\n",
      " [345  47 133 205 227]\n",
      " [336  31  34 577  42]\n",
      " [368  97  86 217 351]]\n"
     ]
    }
   ],
   "source": [
    "# creating a confusion matrix\n",
    "cm_lin = confusion_matrix(y_test, linear_pred)\n",
    "cm_poly = confusion_matrix(y_test, poly_pred)\n",
    "cm_rbf = confusion_matrix(y_test, rbf_pred)\n",
    "cm_sig = confusion_matrix(y_test, sig_pred)\n",
    "print(cm_lin)\n",
    "print(cm_poly)\n",
    "print(cm_rbf)\n",
    "print(cm_sig)"
   ]
  },
  {
   "cell_type": "code",
   "execution_count": 25,
   "id": "57e27162",
   "metadata": {},
   "outputs": [
    {
     "name": "stdout",
     "output_type": "stream",
     "text": [
      "CPU times: user 56 µs, sys: 8 µs, total: 64 µs\n",
      "Wall time: 66.8 µs\n"
     ]
    }
   ],
   "source": [
    "%%time\n",
    "param_grid = {'C': [0.1, 1, 10, 100],\n",
    "              'degree': [1, 2, 3, 4, 5],\n",
    "              'kernel': ['poly']}\n",
    " \n",
    "grid = GridSearchCV(svm.SVC(cache_size=1000), param_grid, refit = True, verbose = 3)"
   ]
  },
  {
   "cell_type": "code",
   "execution_count": 26,
   "id": "9b4110fa",
   "metadata": {},
   "outputs": [
    {
     "name": "stdout",
     "output_type": "stream",
     "text": [
      "Fitting 5 folds for each of 20 candidates, totalling 100 fits\n",
      "[CV 1/5] END ......C=0.1, degree=1, kernel=poly;, score=0.423 total time=  31.0s\n",
      "[CV 2/5] END ......C=0.1, degree=1, kernel=poly;, score=0.427 total time=  31.1s\n",
      "[CV 3/5] END ......C=0.1, degree=1, kernel=poly;, score=0.431 total time=  31.8s\n",
      "[CV 4/5] END ......C=0.1, degree=1, kernel=poly;, score=0.424 total time=  34.1s\n",
      "[CV 5/5] END ......C=0.1, degree=1, kernel=poly;, score=0.409 total time=  34.5s\n",
      "[CV 1/5] END ......C=0.1, degree=2, kernel=poly;, score=0.384 total time=  36.6s\n",
      "[CV 2/5] END ......C=0.1, degree=2, kernel=poly;, score=0.381 total time=  36.8s\n",
      "[CV 3/5] END ......C=0.1, degree=2, kernel=poly;, score=0.375 total time=  36.2s\n",
      "[CV 4/5] END ......C=0.1, degree=2, kernel=poly;, score=0.371 total time=  36.4s\n",
      "[CV 5/5] END ......C=0.1, degree=2, kernel=poly;, score=0.379 total time=  47.6s\n",
      "[CV 1/5] END ......C=0.1, degree=3, kernel=poly;, score=0.346 total time=  40.3s\n",
      "[CV 2/5] END ......C=0.1, degree=3, kernel=poly;, score=0.350 total time=  41.4s\n",
      "[CV 3/5] END ......C=0.1, degree=3, kernel=poly;, score=0.347 total time=  41.3s\n",
      "[CV 4/5] END ......C=0.1, degree=3, kernel=poly;, score=0.343 total time=  40.2s\n",
      "[CV 5/5] END ......C=0.1, degree=3, kernel=poly;, score=0.351 total time=  36.3s\n",
      "[CV 1/5] END ......C=0.1, degree=4, kernel=poly;, score=0.286 total time=  39.9s\n",
      "[CV 2/5] END ......C=0.1, degree=4, kernel=poly;, score=0.270 total time=  40.8s\n",
      "[CV 3/5] END ......C=0.1, degree=4, kernel=poly;, score=0.278 total time=  38.8s\n",
      "[CV 4/5] END ......C=0.1, degree=4, kernel=poly;, score=0.269 total time=  38.3s\n",
      "[CV 5/5] END ......C=0.1, degree=4, kernel=poly;, score=0.284 total time=  32.2s\n",
      "[CV 1/5] END ......C=0.1, degree=5, kernel=poly;, score=0.272 total time=  32.8s\n",
      "[CV 2/5] END ......C=0.1, degree=5, kernel=poly;, score=0.273 total time=  33.2s\n",
      "[CV 3/5] END ......C=0.1, degree=5, kernel=poly;, score=0.270 total time=  33.2s\n",
      "[CV 4/5] END ......C=0.1, degree=5, kernel=poly;, score=0.266 total time=  33.2s\n",
      "[CV 5/5] END ......C=0.1, degree=5, kernel=poly;, score=0.276 total time=  33.7s\n",
      "[CV 1/5] END ........C=1, degree=1, kernel=poly;, score=0.416 total time=  28.0s\n",
      "[CV 2/5] END ........C=1, degree=1, kernel=poly;, score=0.424 total time=  28.0s\n",
      "[CV 3/5] END ........C=1, degree=1, kernel=poly;, score=0.430 total time=  28.2s\n",
      "[CV 4/5] END ........C=1, degree=1, kernel=poly;, score=0.423 total time=  28.1s\n",
      "[CV 5/5] END ........C=1, degree=1, kernel=poly;, score=0.417 total time=  27.9s\n",
      "[CV 1/5] END ........C=1, degree=2, kernel=poly;, score=0.490 total time=  28.6s\n",
      "[CV 2/5] END ........C=1, degree=2, kernel=poly;, score=0.495 total time=  28.8s\n",
      "[CV 3/5] END ........C=1, degree=2, kernel=poly;, score=0.492 total time=  28.9s\n",
      "[CV 4/5] END ........C=1, degree=2, kernel=poly;, score=0.495 total time=  29.3s\n",
      "[CV 5/5] END ........C=1, degree=2, kernel=poly;, score=0.484 total time=  29.1s\n",
      "[CV 1/5] END ........C=1, degree=3, kernel=poly;, score=0.483 total time=  30.7s\n",
      "[CV 2/5] END ........C=1, degree=3, kernel=poly;, score=0.490 total time=  30.4s\n",
      "[CV 3/5] END ........C=1, degree=3, kernel=poly;, score=0.482 total time=  30.8s\n",
      "[CV 4/5] END ........C=1, degree=3, kernel=poly;, score=0.481 total time=  31.5s\n",
      "[CV 5/5] END ........C=1, degree=3, kernel=poly;, score=0.472 total time=  30.5s\n",
      "[CV 1/5] END ........C=1, degree=4, kernel=poly;, score=0.443 total time=  33.2s\n",
      "[CV 2/5] END ........C=1, degree=4, kernel=poly;, score=0.432 total time=  32.9s\n",
      "[CV 3/5] END ........C=1, degree=4, kernel=poly;, score=0.434 total time=  33.8s\n",
      "[CV 4/5] END ........C=1, degree=4, kernel=poly;, score=0.426 total time=  32.1s\n",
      "[CV 5/5] END ........C=1, degree=4, kernel=poly;, score=0.431 total time=  32.1s\n",
      "[CV 1/5] END ........C=1, degree=5, kernel=poly;, score=0.406 total time=  32.8s\n",
      "[CV 2/5] END ........C=1, degree=5, kernel=poly;, score=0.398 total time=  33.3s\n",
      "[CV 3/5] END ........C=1, degree=5, kernel=poly;, score=0.393 total time=  33.5s\n",
      "[CV 4/5] END ........C=1, degree=5, kernel=poly;, score=0.395 total time=  33.0s\n",
      "[CV 5/5] END ........C=1, degree=5, kernel=poly;, score=0.400 total time=  33.7s\n",
      "[CV 1/5] END .......C=10, degree=1, kernel=poly;, score=0.380 total time=  27.4s\n",
      "[CV 2/5] END .......C=10, degree=1, kernel=poly;, score=0.391 total time=  27.6s\n",
      "[CV 3/5] END .......C=10, degree=1, kernel=poly;, score=0.401 total time=  27.9s\n",
      "[CV 4/5] END .......C=10, degree=1, kernel=poly;, score=0.396 total time=  28.3s\n",
      "[CV 5/5] END .......C=10, degree=1, kernel=poly;, score=0.386 total time=  28.3s\n",
      "[CV 1/5] END .......C=10, degree=2, kernel=poly;, score=0.494 total time=  30.3s\n",
      "[CV 2/5] END .......C=10, degree=2, kernel=poly;, score=0.498 total time=  29.9s\n",
      "[CV 3/5] END .......C=10, degree=2, kernel=poly;, score=0.492 total time=  30.2s\n",
      "[CV 4/5] END .......C=10, degree=2, kernel=poly;, score=0.490 total time=  30.8s\n",
      "[CV 5/5] END .......C=10, degree=2, kernel=poly;, score=0.489 total time=  31.8s\n",
      "[CV 1/5] END .......C=10, degree=3, kernel=poly;, score=0.512 total time=  31.8s\n",
      "[CV 2/5] END .......C=10, degree=3, kernel=poly;, score=0.517 total time=  30.8s\n",
      "[CV 3/5] END .......C=10, degree=3, kernel=poly;, score=0.518 total time=  31.6s\n",
      "[CV 4/5] END .......C=10, degree=3, kernel=poly;, score=0.521 total time=  32.5s\n",
      "[CV 5/5] END .......C=10, degree=3, kernel=poly;, score=0.497 total time=  30.6s\n",
      "[CV 1/5] END .......C=10, degree=4, kernel=poly;, score=0.486 total time=  33.4s\n",
      "[CV 2/5] END .......C=10, degree=4, kernel=poly;, score=0.492 total time=  33.2s\n",
      "[CV 3/5] END .......C=10, degree=4, kernel=poly;, score=0.484 total time=  32.9s\n",
      "[CV 4/5] END .......C=10, degree=4, kernel=poly;, score=0.485 total time=  32.9s\n",
      "[CV 5/5] END .......C=10, degree=4, kernel=poly;, score=0.481 total time=  33.6s\n",
      "[CV 1/5] END .......C=10, degree=5, kernel=poly;, score=0.438 total time=  34.1s\n",
      "[CV 2/5] END .......C=10, degree=5, kernel=poly;, score=0.455 total time=  34.4s\n",
      "[CV 3/5] END .......C=10, degree=5, kernel=poly;, score=0.446 total time=  33.9s\n",
      "[CV 4/5] END .......C=10, degree=5, kernel=poly;, score=0.445 total time=  32.7s\n",
      "[CV 5/5] END .......C=10, degree=5, kernel=poly;, score=0.441 total time=  32.9s\n",
      "[CV 1/5] END ......C=100, degree=1, kernel=poly;, score=0.353 total time=  49.6s\n",
      "[CV 2/5] END ......C=100, degree=1, kernel=poly;, score=0.347 total time=  51.9s\n",
      "[CV 3/5] END ......C=100, degree=1, kernel=poly;, score=0.364 total time=  51.8s\n",
      "[CV 4/5] END ......C=100, degree=1, kernel=poly;, score=0.354 total time=  52.1s\n",
      "[CV 5/5] END ......C=100, degree=1, kernel=poly;, score=0.357 total time=  51.0s\n",
      "[CV 1/5] END ......C=100, degree=2, kernel=poly;, score=0.494 total time=  30.2s\n",
      "[CV 2/5] END ......C=100, degree=2, kernel=poly;, score=0.499 total time=  29.1s\n",
      "[CV 3/5] END ......C=100, degree=2, kernel=poly;, score=0.490 total time=  29.8s\n",
      "[CV 4/5] END ......C=100, degree=2, kernel=poly;, score=0.488 total time=  30.1s\n",
      "[CV 5/5] END ......C=100, degree=2, kernel=poly;, score=0.491 total time=  29.9s\n",
      "[CV 1/5] END ......C=100, degree=3, kernel=poly;, score=0.505 total time=  31.0s\n",
      "[CV 2/5] END ......C=100, degree=3, kernel=poly;, score=0.513 total time=  32.8s\n",
      "[CV 3/5] END ......C=100, degree=3, kernel=poly;, score=0.512 total time=  31.7s\n",
      "[CV 4/5] END ......C=100, degree=3, kernel=poly;, score=0.514 total time=  30.7s\n",
      "[CV 5/5] END ......C=100, degree=3, kernel=poly;, score=0.496 total time=  31.8s\n",
      "[CV 1/5] END ......C=100, degree=4, kernel=poly;, score=0.484 total time=  33.8s\n",
      "[CV 2/5] END ......C=100, degree=4, kernel=poly;, score=0.482 total time=  33.9s\n",
      "[CV 3/5] END ......C=100, degree=4, kernel=poly;, score=0.482 total time=  38.6s\n",
      "[CV 4/5] END ......C=100, degree=4, kernel=poly;, score=0.482 total time=  44.9s\n",
      "[CV 5/5] END ......C=100, degree=4, kernel=poly;, score=0.480 total time=  37.8s\n",
      "[CV 1/5] END ......C=100, degree=5, kernel=poly;, score=0.422 total time=  37.1s\n",
      "[CV 2/5] END ......C=100, degree=5, kernel=poly;, score=0.430 total time=  40.2s\n",
      "[CV 3/5] END ......C=100, degree=5, kernel=poly;, score=0.428 total time=  36.3s\n",
      "[CV 4/5] END ......C=100, degree=5, kernel=poly;, score=0.430 total time=  38.5s\n",
      "[CV 5/5] END ......C=100, degree=5, kernel=poly;, score=0.422 total time=  37.7s\n",
      "CPU times: user 5h 25min 48s, sys: 6min 39s, total: 5h 32min 27s\n",
      "Wall time: 57min 47s\n"
     ]
    },
    {
     "data": {
      "text/plain": [
       "GridSearchCV(estimator=SVC(),\n",
       "             param_grid={'C': [0.1, 1, 10, 100], 'degree': [1, 2, 3, 4, 5],\n",
       "                         'kernel': ['poly']},\n",
       "             verbose=3)"
      ]
     },
     "execution_count": 26,
     "metadata": {},
     "output_type": "execute_result"
    }
   ],
   "source": [
    "%%time\n",
    "grid.fit(x_train, y_train)"
   ]
  },
  {
   "cell_type": "code",
   "execution_count": 27,
   "id": "a33c3a4e",
   "metadata": {},
   "outputs": [
    {
     "name": "stdout",
     "output_type": "stream",
     "text": [
      "{'C': 10, 'degree': 3, 'kernel': 'poly'}\n",
      "SVC(C=10, kernel='poly')\n"
     ]
    }
   ],
   "source": [
    "# print best parameter after tuning\n",
    "print(grid.best_params_)\n",
    " \n",
    "# print how our model looks after hyper-parameter tuning\n",
    "print(grid.best_estimator_)"
   ]
  }
 ],
 "metadata": {
  "kernelspec": {
   "display_name": "Python 3 (ipykernel)",
   "language": "python",
   "name": "python3"
  },
  "language_info": {
   "codemirror_mode": {
    "name": "ipython",
    "version": 3
   },
   "file_extension": ".py",
   "mimetype": "text/x-python",
   "name": "python",
   "nbconvert_exporter": "python",
   "pygments_lexer": "ipython3",
   "version": "3.9.10"
  }
 },
 "nbformat": 4,
 "nbformat_minor": 5
}
