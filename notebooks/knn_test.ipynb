{
 "cells": [
  {
   "cell_type": "code",
   "execution_count": 1,
   "id": "cf3d2796",
   "metadata": {},
   "outputs": [],
   "source": [
    "import numpy as np\n",
    "from sklearn.datasets import load_iris #testing purposes\n",
    "from sklearn.neighbors import KNeighborsClassifier"
   ]
  },
  {
   "cell_type": "code",
   "execution_count": 2,
   "id": "e1fbe044",
   "metadata": {},
   "outputs": [
    {
     "name": "stdout",
     "output_type": "stream",
     "text": [
      "(150, 4)\n",
      "(150,)\n"
     ]
    }
   ],
   "source": [
    "X = load_iris().data\n",
    "Y = load_iris().target\n",
    "print(np.shape(X))\n",
    "print(np.shape(Y))"
   ]
  },
  {
   "cell_type": "code",
   "execution_count": 3,
   "id": "67900666",
   "metadata": {},
   "outputs": [],
   "source": [
    "train_X = X[0:125:,:]\n",
    "train_y = Y[0:125]\n",
    "test_X = X[125:,:] \n",
    "test_y = Y[125:]"
   ]
  },
  {
   "cell_type": "code",
   "execution_count": 4,
   "id": "4d9db2ca",
   "metadata": {},
   "outputs": [
    {
     "data": {
      "text/plain": [
       "(25, 4)"
      ]
     },
     "execution_count": 4,
     "metadata": {},
     "output_type": "execute_result"
    }
   ],
   "source": [
    "np.shape(test_X)"
   ]
  },
  {
   "cell_type": "code",
   "execution_count": 5,
   "id": "e6727eb2",
   "metadata": {},
   "outputs": [
    {
     "data": {
      "text/plain": [
       "(125, 4)"
      ]
     },
     "execution_count": 5,
     "metadata": {},
     "output_type": "execute_result"
    }
   ],
   "source": [
    "np.shape(train_X) # n = 125 , m = 25"
   ]
  },
  {
   "cell_type": "markdown",
   "id": "03c1c320",
   "metadata": {},
   "source": [
    "## Predicting labels (returns accuracy)"
   ]
  },
  {
   "cell_type": "code",
   "execution_count": 6,
   "id": "887d3c62",
   "metadata": {},
   "outputs": [],
   "source": [
    "def predict(train_X,train_y,test_X,test_y,k,distance_type):\n",
    "    '''\n",
    "    train_X (nxp): design matrix of all training observations \n",
    "    train_y (nx1): vehicle class of each training observation. \n",
    "    test_X (mxp): design matrix of all testing observations\n",
    "    k: number of neighbors to consider\n",
    "    Note: 3 Minkowski distance types are considered: manhattan, euclidean, cubic.\n",
    "    '''\n",
    "    n,p = np.shape(train_X)\n",
    "    m,p = np.shape(test_X)\n",
    "    minimum_index = 0\n",
    "    predicted_labels = list()\n",
    "    dist = dict({'manhattan':1,'euclidean':2,'cubic':3})\n",
    "\n",
    "    for i in range(m):                     # predicting class of 25 vectors \n",
    "        distance = np.zeros(n)             # distance of all 125 training vectors from test vector i\n",
    "        neighbor_labels = list()\n",
    "        for j in range(n):                 # finding distance of every training vector from test vector\n",
    "            distance[j] = np.linalg.norm(test_X[i,:] - train_X[j,:],ord=dist[distance_type]) \n",
    "        ranked_distance = np.argsort(distance)                               # ranked_distance: indexes of n vectors sorted by increasing distance\n",
    "        \n",
    "        for l in ranked_distance[0:k]:\n",
    "            neighbor_labels.append(train_y[l]) # finding labels of neighbors\n",
    "\n",
    "        pred_label = max(set(neighbor_labels), key = neighbor_labels.count)  # choosing majority label\n",
    "        predicted_labels.append(pred_label)                                  # appending majority label of ith observation\n",
    "\n",
    "    accuracy_scratch = sum(test_y == predicted_labels) / len(test_y)\n",
    "\n",
    "    return accuracy_scratch # returns prediction accuracy"
   ]
  },
  {
   "cell_type": "code",
   "execution_count": 7,
   "id": "b3fa2a46",
   "metadata": {},
   "outputs": [
    {
     "data": {
      "text/plain": [
       "0.8"
      ]
     },
     "execution_count": 7,
     "metadata": {},
     "output_type": "execute_result"
    }
   ],
   "source": [
    "pred_labels = predict(train_X,train_y,test_X,test_y,k=5,distance_type='manhattan')\n",
    "pred_labels"
   ]
  },
  {
   "cell_type": "code",
   "execution_count": 8,
   "id": "d2a55cee",
   "metadata": {},
   "outputs": [],
   "source": [
    "# COMPARE WITH SKLEARN KNEIGHBORS\n",
    "\n",
    "neigh = KNeighborsClassifier(n_neighbors=5,p=1)\n",
    "neigh.fit(train_X, train_y)\n",
    "pred_vec = np.ones(len(test_y))\n",
    "for i in range(len(test_y)):\n",
    "    pred_vec[i] = neigh.predict([test_X[i,:]]) # 84% accuracy\n",
    "\n",
    "accuracy_sk = sum(test_y == pred_vec) / len(test_y)"
   ]
  },
  {
   "cell_type": "code",
   "execution_count": 9,
   "id": "1b3b3378",
   "metadata": {},
   "outputs": [
    {
     "data": {
      "text/plain": [
       "0.8"
      ]
     },
     "execution_count": 9,
     "metadata": {},
     "output_type": "execute_result"
    }
   ],
   "source": [
    "accuracy_sk"
   ]
  },
  {
   "cell_type": "markdown",
   "id": "fcc252e4",
   "metadata": {},
   "source": [
    "## Tuning k"
   ]
  },
  {
   "cell_type": "code",
   "execution_count": 10,
   "id": "7de4c44c",
   "metadata": {},
   "outputs": [],
   "source": [
    "def k_tune(train_X,train_y,distance_type,folds):\n",
    "    ''' The idea is to split training set into l parts. train on l-1 partitions and test on 1 partition.\n",
    "        Then, find the mean accuracy of all l models for each value k (neighbors). \n",
    "        The optimal k will be found for all distance types. \n",
    "\n",
    "        input expectations:\n",
    "            distance_type (string): manhattan, euclidean, or cubic.\n",
    "            folds (int) \n",
    "            train_X (nxp numpy array) \n",
    "            train_y (nx1 numpy array) \n",
    "\n",
    "    '''\n",
    "    kf = KFold(n_splits = folds, random_state = True, shuffle = True)\n",
    "    neighbors = [1,3,5,7,9]\n",
    "    accuracy_mat = list()\n",
    "    mean_accuracy = list()\n",
    "\n",
    "    for train_index, test_index in kf.split(train_X):       # Iterate through each of l folds for each lamda \n",
    "        temp_X_train = train_X[train_index]\n",
    "        temp_y_train = train_y[train_index]\n",
    "        temp_X_test = train_X[test_index]\n",
    "        temp_y_test = train_y[test_index]\n",
    "\n",
    "        accuracy_vec = np.zeros(len(neighbors))\n",
    "\n",
    "        for k in range(len(neighbors)):\n",
    "            accuracy_vec[k] = predict(temp_X_train,temp_y_train,temp_X_test,temp_y_test,neighbors[k],distance_type)\n",
    "        accuracy_mat.append(accuracy_vec)\n",
    "        \n",
    "    accuracy_mat = np.array(accuracy_mat) \n",
    "    folds,neighbor = np.shape(accuracy_mat)\n",
    "    for i in range(neighbor):\n",
    "        accuracy = 0\n",
    "        for j in range(folds):\n",
    "            accuracy += accuracy_mat[j,i]\n",
    "        mean_accuracy.append(accuracy / folds)\n",
    "    max_value = max(mean_accuracy)\n",
    "    max_index = mean_accuracy.index(max_value)         # contains the mean prediction accuracy for each k neighbors value.\n",
    "    \n",
    "    # returned: First object: best k neighbors. Second object: list of prediction accuracies for all values of k\n",
    "    return neighbors[max_index], max_value"
   ]
  },
  {
   "cell_type": "code",
   "execution_count": 11,
   "id": "7b0004dc",
   "metadata": {},
   "outputs": [],
   "source": [
    "from sklearn.model_selection import KFold\n",
    "optimal_k,max_value = k_tune(train_X,train_y,distance_type = 'cubic',folds=6)"
   ]
  },
  {
   "cell_type": "code",
   "execution_count": 12,
   "id": "2d8eaab2",
   "metadata": {},
   "outputs": [
    {
     "data": {
      "text/plain": [
       "5"
      ]
     },
     "execution_count": 12,
     "metadata": {},
     "output_type": "execute_result"
    }
   ],
   "source": [
    "optimal_k \n",
    "# Manhattan (L1 norm)\n",
    "#     3-fold: k=3\n",
    "#     4-fold: k=3\n",
    "#     5-fold: k=3\n",
    "#     6-fold: k=5 \n",
    "# Euclidean (L2 norm)\n",
    "#     3-fold: k=3\n",
    "#     4-fold: k=5\n",
    "#     5-fold: k=5\n",
    "#     6-fold: k=3\n",
    "# Cubic (L3 norm)\n",
    "#     3-fold: k=3\n",
    "#     4-fold: k=5\n",
    "#     5-fold: k=5\n",
    "#     6-fold: k=5 "
   ]
  },
  {
   "cell_type": "code",
   "execution_count": 13,
   "id": "510e1b71",
   "metadata": {},
   "outputs": [
    {
     "data": {
      "text/plain": [
       "0.9603174603174603"
      ]
     },
     "execution_count": 13,
     "metadata": {},
     "output_type": "execute_result"
    }
   ],
   "source": [
    "max_value"
   ]
  },
  {
   "cell_type": "code",
   "execution_count": 14,
   "id": "95bde742",
   "metadata": {},
   "outputs": [],
   "source": [
    "#load in design matrix:\n",
    "dat = np.load(\"dat_transform.npz\")\n",
    "\n",
    "#extract design matrix from npz file:\n",
    "dat = dat[\"arr_0\"]   # (25231,7500)"
   ]
  },
  {
   "cell_type": "code",
   "execution_count": 15,
   "id": "e7a97744",
   "metadata": {},
   "outputs": [],
   "source": [
    "#load in response vector:\n",
    "response = np.load(\"response.npz\")\n",
    "\n",
    "#extract response vector from npz file:\n",
    "response = response[\"arr_0\"]   "
   ]
  },
  {
   "cell_type": "code",
   "execution_count": 18,
   "id": "e777ca45",
   "metadata": {},
   "outputs": [],
   "source": [
    "from sklearn.model_selection import train_test_split\n",
    "train_X, test_X, train_y, test_y = train_test_split(\n",
    "    dat, response, test_size=0.4, random_state=0\n",
    ")"
   ]
  },
  {
   "cell_type": "code",
   "execution_count": 19,
   "id": "4edf04b9",
   "metadata": {},
   "outputs": [
    {
     "data": {
      "text/plain": [
       "(10093,)"
      ]
     },
     "execution_count": 19,
     "metadata": {},
     "output_type": "execute_result"
    }
   ],
   "source": [
    "np.shape(train_X) # (20184, 500)\n",
    "np.shape(test_X) # (5047, 500)\n",
    "np.shape(train_y) # (20184,)\n",
    "np.shape(test_y) # (5047,)"
   ]
  },
  {
   "cell_type": "markdown",
   "id": "d55c7fbc",
   "metadata": {},
   "source": [
    "### Tuning k for our Transformed Data (We consider k = 1,3,5,7,9)\n",
    "* We consider folds: 3,4,5,6 to retain as many observations within the validation training and testing sets as possible \n",
    "- testing set size = [3364,6728], training set size > testing set size.\n",
    "\n",
    "|Distance Metric | Folds | Optimal k |    Validation Accuracy  | Run time |\n",
    "|----------------|-------|-----------|-------------------------|----------|\n",
    "|Manhattan       |   3   |           |                         |          |\n",
    "|                |   4   |           |                         |          | \n",
    "|                |   5   |           |                         |          |\n",
    "|                |   6   |           |                         |          |\n",
    "|Euclidean       |   3   |           |                         |          |\n",
    "|                |   4   |           |                         |          |\n",
    "|                |   5   |           |                         |          |\n",
    "|                |   6   |           |                         |          |\n",
    "|Cubic           |   3   |           |                         |          |\n",
    "|                |   4   |           |                         |          |\n",
    "|                |   5   |           |                         |          |\n",
    "|                |   6   |           |                         |          |"
   ]
  },
  {
   "cell_type": "code",
   "execution_count": 25,
   "id": "096665b1",
   "metadata": {},
   "outputs": [
    {
     "name": "stdout",
     "output_type": "stream",
     "text": [
      "The optimal number of neighbors for Manhattan distances with 4-folds is:  9 , with validation accuracy:  0.3884264764169639\n"
     ]
    }
   ],
   "source": [
    "optimal_k,max_value = k_tune(train_X,train_y,distance_type = 'manhattan',folds=3)"
   ]
  },
  {
   "cell_type": "code",
   "execution_count": 26,
   "id": "6070ba8d",
   "metadata": {},
   "outputs": [
    {
     "name": "stdout",
     "output_type": "stream",
     "text": [
      "The optimal number of neighbors for Manhattan distances with 3-folds is:  9 , with validation accuracy:  0.3884264764169639\n"
     ]
    }
   ],
   "source": [
    "print(\"The optimal number of neighbors for Manhattan distances with 3-folds is: \",optimal_k,\", with validation accuracy: \",max_value)"
   ]
  },
  {
   "cell_type": "markdown",
   "id": "f7c2f9ac",
   "metadata": {},
   "source": [
    "### Testing on Mahattan, k=9"
   ]
  },
  {
   "cell_type": "code",
   "execution_count": null,
   "id": "92d05697",
   "metadata": {},
   "outputs": [],
   "source": [
    "mahattan_9 = predict(train_X,train_y,test_X,test_y,k=9,distance_type='manhattan')\n",
    "manhattan_9"
   ]
  },
  {
   "cell_type": "markdown",
   "id": "8acd6384",
   "metadata": {},
   "source": [
    "-------------------------------------"
   ]
  },
  {
   "cell_type": "code",
   "execution_count": null,
   "id": "5ed877f0",
   "metadata": {},
   "outputs": [],
   "source": [
    "optimal_k,max_value = k_tune(train_X,train_y,distance_type = 'euclidean',folds=3)\n",
    "print(\"The optimal number of neighbors for Euclidean distances with 3-folds is: \",optimal_k,\", with validation accuracy: \",max_value)"
   ]
  },
  {
   "cell_type": "code",
   "execution_count": null,
   "id": "123f5b10",
   "metadata": {},
   "outputs": [],
   "source": [
    "optimal_k,max_value = k_tune(train_X,train_y,distance_type = 'cubic',folds=3)\n",
    "print(\"The optimal number of neighbors for Cubic distances with 3-folds is: \",optimal_k,\", with validation accuracy: \",max_value)"
   ]
  },
  {
   "cell_type": "code",
   "execution_count": 25,
   "id": "2bd5e109",
   "metadata": {},
   "outputs": [
    {
     "ename": "KeyboardInterrupt",
     "evalue": "",
     "output_type": "error",
     "traceback": [
      "\u001b[1;31m---------------------------------------------------------------------------\u001b[0m",
      "\u001b[1;31mKeyboardInterrupt\u001b[0m                         Traceback (most recent call last)",
      "\u001b[1;32m<ipython-input-25-f9210082ed4e>\u001b[0m in \u001b[0;36m<module>\u001b[1;34m\u001b[0m\n\u001b[0;32m      5\u001b[0m     \u001b[1;32mfor\u001b[0m \u001b[0md\u001b[0m \u001b[1;32min\u001b[0m \u001b[0mdistance\u001b[0m\u001b[1;33m:\u001b[0m\u001b[1;33m\u001b[0m\u001b[1;33m\u001b[0m\u001b[0m\n\u001b[0;32m      6\u001b[0m         \u001b[0mtimestart\u001b[0m \u001b[1;33m=\u001b[0m \u001b[0mtimeit\u001b[0m\u001b[1;33m.\u001b[0m\u001b[0mdefault_timer\u001b[0m\u001b[1;33m(\u001b[0m\u001b[1;33m)\u001b[0m           \u001b[1;31m# start timer\u001b[0m\u001b[1;33m\u001b[0m\u001b[1;33m\u001b[0m\u001b[0m\n\u001b[1;32m----> 7\u001b[1;33m         \u001b[0moptimal_k\u001b[0m\u001b[1;33m,\u001b[0m\u001b[0mmax_value\u001b[0m \u001b[1;33m=\u001b[0m \u001b[0mk_tune\u001b[0m\u001b[1;33m(\u001b[0m\u001b[0mtrain_X\u001b[0m\u001b[1;33m,\u001b[0m\u001b[0mtrain_y\u001b[0m\u001b[1;33m,\u001b[0m\u001b[0mdistance_type\u001b[0m \u001b[1;33m=\u001b[0m \u001b[0md\u001b[0m\u001b[1;33m,\u001b[0m\u001b[0mfolds\u001b[0m\u001b[1;33m=\u001b[0m\u001b[0mk\u001b[0m\u001b[1;33m)\u001b[0m\u001b[1;33m\u001b[0m\u001b[1;33m\u001b[0m\u001b[0m\n\u001b[0m\u001b[0;32m      8\u001b[0m         \u001b[0mtimeend\u001b[0m \u001b[1;33m=\u001b[0m \u001b[0mtimeit\u001b[0m\u001b[1;33m.\u001b[0m\u001b[0mdefault_timer\u001b[0m\u001b[1;33m(\u001b[0m\u001b[1;33m)\u001b[0m             \u001b[1;31m# end timer\u001b[0m\u001b[1;33m\u001b[0m\u001b[1;33m\u001b[0m\u001b[0m\n\u001b[0;32m      9\u001b[0m         \u001b[0mtime_elapsed\u001b[0m \u001b[1;33m=\u001b[0m \u001b[1;33m(\u001b[0m\u001b[0mtimeend\u001b[0m \u001b[1;33m-\u001b[0m \u001b[0mtimestart\u001b[0m\u001b[1;33m)\u001b[0m         \u001b[1;31m# calculate elapsed time\u001b[0m\u001b[1;33m\u001b[0m\u001b[1;33m\u001b[0m\u001b[0m\n",
      "\u001b[1;32m<ipython-input-11-abc49506c356>\u001b[0m in \u001b[0;36mk_tune\u001b[1;34m(train_X, train_y, distance_type, folds)\u001b[0m\n\u001b[0;32m     25\u001b[0m \u001b[1;33m\u001b[0m\u001b[0m\n\u001b[0;32m     26\u001b[0m         \u001b[1;32mfor\u001b[0m \u001b[0mk\u001b[0m \u001b[1;32min\u001b[0m \u001b[0mrange\u001b[0m\u001b[1;33m(\u001b[0m\u001b[0mlen\u001b[0m\u001b[1;33m(\u001b[0m\u001b[0mneighbors\u001b[0m\u001b[1;33m)\u001b[0m\u001b[1;33m)\u001b[0m\u001b[1;33m:\u001b[0m\u001b[1;33m\u001b[0m\u001b[1;33m\u001b[0m\u001b[0m\n\u001b[1;32m---> 27\u001b[1;33m             \u001b[0maccuracy_vec\u001b[0m\u001b[1;33m[\u001b[0m\u001b[0mk\u001b[0m\u001b[1;33m]\u001b[0m \u001b[1;33m=\u001b[0m \u001b[0mpredict\u001b[0m\u001b[1;33m(\u001b[0m\u001b[0mtemp_X_train\u001b[0m\u001b[1;33m,\u001b[0m\u001b[0mtemp_y_train\u001b[0m\u001b[1;33m,\u001b[0m\u001b[0mtemp_X_test\u001b[0m\u001b[1;33m,\u001b[0m\u001b[0mtemp_y_test\u001b[0m\u001b[1;33m,\u001b[0m\u001b[0mneighbors\u001b[0m\u001b[1;33m[\u001b[0m\u001b[0mk\u001b[0m\u001b[1;33m]\u001b[0m\u001b[1;33m,\u001b[0m\u001b[0mdistance_type\u001b[0m\u001b[1;33m)\u001b[0m\u001b[1;33m\u001b[0m\u001b[1;33m\u001b[0m\u001b[0m\n\u001b[0m\u001b[0;32m     28\u001b[0m         \u001b[0maccuracy_mat\u001b[0m\u001b[1;33m.\u001b[0m\u001b[0mappend\u001b[0m\u001b[1;33m(\u001b[0m\u001b[0maccuracy_vec\u001b[0m\u001b[1;33m)\u001b[0m\u001b[1;33m\u001b[0m\u001b[1;33m\u001b[0m\u001b[0m\n\u001b[0;32m     29\u001b[0m     \u001b[0maccuracy_mat\u001b[0m \u001b[1;33m=\u001b[0m \u001b[0mnp\u001b[0m\u001b[1;33m.\u001b[0m\u001b[0marray\u001b[0m\u001b[1;33m(\u001b[0m\u001b[0maccuracy_mat\u001b[0m\u001b[1;33m)\u001b[0m\u001b[1;33m\u001b[0m\u001b[1;33m\u001b[0m\u001b[0m\n",
      "\u001b[1;32m<ipython-input-7-c53ff2a681dd>\u001b[0m in \u001b[0;36mpredict\u001b[1;34m(train_X, train_y, test_X, test_y, k, distance_type)\u001b[0m\n\u001b[0;32m     17\u001b[0m         \u001b[1;32mfor\u001b[0m \u001b[0mj\u001b[0m \u001b[1;32min\u001b[0m \u001b[0mrange\u001b[0m\u001b[1;33m(\u001b[0m\u001b[0mn\u001b[0m\u001b[1;33m)\u001b[0m\u001b[1;33m:\u001b[0m                 \u001b[1;31m# finding distance of every training vector from test vector\u001b[0m\u001b[1;33m\u001b[0m\u001b[1;33m\u001b[0m\u001b[0m\n\u001b[0;32m     18\u001b[0m             \u001b[1;32mif\u001b[0m \u001b[0mdistance_type\u001b[0m \u001b[1;33m==\u001b[0m \u001b[1;34m'manhattan'\u001b[0m\u001b[1;33m:\u001b[0m\u001b[1;33m\u001b[0m\u001b[1;33m\u001b[0m\u001b[0m\n\u001b[1;32m---> 19\u001b[1;33m                 \u001b[0mdistance\u001b[0m\u001b[1;33m[\u001b[0m\u001b[0mj\u001b[0m\u001b[1;33m]\u001b[0m \u001b[1;33m=\u001b[0m \u001b[0mnp\u001b[0m\u001b[1;33m.\u001b[0m\u001b[0mlinalg\u001b[0m\u001b[1;33m.\u001b[0m\u001b[0mnorm\u001b[0m\u001b[1;33m(\u001b[0m\u001b[0mtest_X\u001b[0m\u001b[1;33m[\u001b[0m\u001b[0mi\u001b[0m\u001b[1;33m,\u001b[0m\u001b[1;33m:\u001b[0m\u001b[1;33m]\u001b[0m \u001b[1;33m-\u001b[0m \u001b[0mtrain_X\u001b[0m\u001b[1;33m[\u001b[0m\u001b[0mj\u001b[0m\u001b[1;33m,\u001b[0m\u001b[1;33m:\u001b[0m\u001b[1;33m]\u001b[0m\u001b[1;33m,\u001b[0m\u001b[0mord\u001b[0m\u001b[1;33m=\u001b[0m\u001b[1;36m1\u001b[0m\u001b[1;33m)\u001b[0m\u001b[1;33m\u001b[0m\u001b[1;33m\u001b[0m\u001b[0m\n\u001b[0m\u001b[0;32m     20\u001b[0m             \u001b[1;32melif\u001b[0m \u001b[0mdistance_type\u001b[0m \u001b[1;33m==\u001b[0m \u001b[1;34m'euclidean'\u001b[0m\u001b[1;33m:\u001b[0m\u001b[1;33m\u001b[0m\u001b[1;33m\u001b[0m\u001b[0m\n\u001b[0;32m     21\u001b[0m                 \u001b[0mdistance\u001b[0m\u001b[1;33m[\u001b[0m\u001b[0mj\u001b[0m\u001b[1;33m]\u001b[0m \u001b[1;33m=\u001b[0m \u001b[0mnp\u001b[0m\u001b[1;33m.\u001b[0m\u001b[0mlinalg\u001b[0m\u001b[1;33m.\u001b[0m\u001b[0mnorm\u001b[0m\u001b[1;33m(\u001b[0m\u001b[0mtest_X\u001b[0m\u001b[1;33m[\u001b[0m\u001b[0mi\u001b[0m\u001b[1;33m,\u001b[0m\u001b[1;33m:\u001b[0m\u001b[1;33m]\u001b[0m \u001b[1;33m-\u001b[0m \u001b[0mtrain_X\u001b[0m\u001b[1;33m[\u001b[0m\u001b[0mj\u001b[0m\u001b[1;33m,\u001b[0m\u001b[1;33m:\u001b[0m\u001b[1;33m]\u001b[0m\u001b[1;33m,\u001b[0m\u001b[0mord\u001b[0m\u001b[1;33m=\u001b[0m\u001b[1;36m2\u001b[0m\u001b[1;33m)\u001b[0m\u001b[1;33m\u001b[0m\u001b[1;33m\u001b[0m\u001b[0m\n",
      "\u001b[1;32m<__array_function__ internals>\u001b[0m in \u001b[0;36mnorm\u001b[1;34m(*args, **kwargs)\u001b[0m\n",
      "\u001b[1;31mKeyboardInterrupt\u001b[0m: "
     ]
    }
   ],
   "source": [
    "import timeit\n",
    "folds = [3,4,5]\n",
    "distance = ['manhattan','euclidean','cubic']\n",
    "for k in folds:\n",
    "    for d in distance:\n",
    "        timestart = timeit.default_timer()           # start timer\n",
    "        optimal_k,max_value = k_tune(train_X,train_y,distance_type = d,folds=k)\n",
    "        timeend = timeit.default_timer()             # end timer\n",
    "        time_elapsed = (timeend - timestart)         # calculate elapsed time\n",
    "        print(\"The optimal number of neighbors is: \",optimal_k,\", with validation accuracy: \",max_value,'\\nThe elapsed time is: ',time_elapsed)"
   ]
  }
 ],
 "metadata": {
  "kernelspec": {
   "display_name": "Python 3",
   "language": "python",
   "name": "python3"
  },
  "language_info": {
   "codemirror_mode": {
    "name": "ipython",
    "version": 3
   },
   "file_extension": ".py",
   "mimetype": "text/x-python",
   "name": "python",
   "nbconvert_exporter": "python",
   "pygments_lexer": "ipython3",
   "version": "3.8.8"
  }
 },
 "nbformat": 4,
 "nbformat_minor": 5
}
