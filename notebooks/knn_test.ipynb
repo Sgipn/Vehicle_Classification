{
 "cells": [
  {
   "cell_type": "code",
   "execution_count": 48,
   "id": "cf3d2796",
   "metadata": {},
   "outputs": [],
   "source": [
    "import numpy as np\n",
    "from sklearn.datasets import load_iris #testing purposes\n",
    "from sklearn.neighbors import KNeighborsClassifier"
   ]
  },
  {
   "cell_type": "code",
   "execution_count": 49,
   "id": "e1fbe044",
   "metadata": {},
   "outputs": [
    {
     "name": "stdout",
     "output_type": "stream",
     "text": [
      "(150, 4)\n",
      "(150,)\n"
     ]
    }
   ],
   "source": [
    "X = load_iris().data\n",
    "Y = load_iris().target\n",
    "print(np.shape(X))\n",
    "print(np.shape(Y))"
   ]
  },
  {
   "cell_type": "code",
   "execution_count": 50,
   "id": "67900666",
   "metadata": {},
   "outputs": [],
   "source": [
    "train_X = X[0:125:,:]\n",
    "train_y = Y[0:125]\n",
    "test_X = X[125:,:] \n",
    "test_y = Y[125:]"
   ]
  },
  {
   "cell_type": "code",
   "execution_count": 51,
   "id": "4d9db2ca",
   "metadata": {},
   "outputs": [
    {
     "data": {
      "text/plain": [
       "(25, 4)"
      ]
     },
     "execution_count": 51,
     "metadata": {},
     "output_type": "execute_result"
    }
   ],
   "source": [
    "np.shape(test_X)"
   ]
  },
  {
   "cell_type": "code",
   "execution_count": 52,
   "id": "e6727eb2",
   "metadata": {},
   "outputs": [
    {
     "data": {
      "text/plain": [
       "(125, 4)"
      ]
     },
     "execution_count": 52,
     "metadata": {},
     "output_type": "execute_result"
    }
   ],
   "source": [
    "np.shape(train_X) # n = 125 , m = 25"
   ]
  },
  {
   "cell_type": "markdown",
   "id": "bbdf68b0",
   "metadata": {},
   "source": [
    "## Predicting labels (returns accuracy)"
   ]
  },
  {
   "cell_type": "code",
   "execution_count": 53,
   "id": "3e10fd95",
   "metadata": {},
   "outputs": [],
   "source": [
    "def predict(train_X,train_y,test_X,test_y,k,distance_type):\n",
    "    '''\n",
    "    train_X (nxp): design matrix of all training observations \n",
    "    train_y (nx1): vehicle class of each training observation. \n",
    "    test_X (mxp): design matrix of all testing observations\n",
    "    k: number of neighbors to consider\n",
    "    Note: 3 Minkowski distance types are considered: manhattan, euclidean, cubic.\n",
    "    '''\n",
    "    n,p = np.shape(train_X)\n",
    "    m,p = np.shape(test_X)\n",
    "    minimum_index = 0\n",
    "    predicted_labels = list()\n",
    "\n",
    "    for i in range(m):                     # predicting class of 25 vectors \n",
    "        distance = np.zeros(n)             # distance of all 125 training vectors from test vector i\n",
    "        neighbor_labels = list()\n",
    "        for j in range(n):                 # finding distance of every training vector from test vector\n",
    "            if distance_type == 'manhattan':\n",
    "                distance[j] = np.linalg.norm(test_X[i,:] - train_X[j,:],ord=1) \n",
    "            elif distance_type == 'euclidean':\n",
    "                distance[j] = np.linalg.norm(test_X[i,:] - train_X[j,:],ord=2) \n",
    "            elif distance_type == 'cubic':\n",
    "                distance[j] = np.linalg.norm(test_X[i,:] - train_X[j,:],ord=3) \n",
    "        ranked_distance = np.argsort(distance)                               # ranked_distance: indexes of n vectors sorted by increasing distance\n",
    "        for l in range(k):                                         \n",
    "            neighbor_labels.append(train_y[ranked_distance[l]])              # finding labels of neighbors\n",
    "    \n",
    "        pred_label = max(set(neighbor_labels), key = neighbor_labels.count)  # choosing majority label\n",
    "        predicted_labels.append(pred_label)                                  # appending majority label of ith observation\n",
    "        \n",
    "    accuracy_scratch = sum(test_y == predicted_labels) / len(test_y)\n",
    "    \n",
    "    return accuracy_scratch # returns prediction accuracy"
   ]
  },
  {
   "cell_type": "code",
   "execution_count": 54,
   "id": "b3fa2a46",
   "metadata": {},
   "outputs": [
    {
     "data": {
      "text/plain": [
       "0.84"
      ]
     },
     "execution_count": 54,
     "metadata": {},
     "output_type": "execute_result"
    }
   ],
   "source": [
    "pred_labels = predict(train_X,train_y,test_X,test_y,5,'euclidean')\n",
    "pred_labels"
   ]
  },
  {
   "cell_type": "code",
   "execution_count": 55,
   "id": "d2a55cee",
   "metadata": {},
   "outputs": [],
   "source": [
    "# COMPARE WITH SKLEARN KNEIGHBORS\n",
    "\n",
    "neigh = KNeighborsClassifier(n_neighbors=5)\n",
    "neigh.fit(train_X, train_y)\n",
    "pred_vec = np.ones(len(test_y))\n",
    "for i in range(len(test_y)):\n",
    "    pred_vec[i] = neigh.predict([test_X[i,:]]) # 84% accuracy\n",
    "\n",
    "accuracy_sk = sum(test_y == pred_vec) / len(test_y)"
   ]
  },
  {
   "cell_type": "code",
   "execution_count": 56,
   "id": "098608a9",
   "metadata": {},
   "outputs": [
    {
     "data": {
      "text/plain": [
       "0.84"
      ]
     },
     "execution_count": 56,
     "metadata": {},
     "output_type": "execute_result"
    }
   ],
   "source": [
    "accuracy_sk"
   ]
  },
  {
   "cell_type": "markdown",
   "id": "08331928",
   "metadata": {},
   "source": [
    "## Tuning k"
   ]
  },
  {
   "cell_type": "code",
   "execution_count": 99,
   "id": "9f686c3c",
   "metadata": {},
   "outputs": [],
   "source": [
    "def k_tune(train_X,train_y,distance_type,folds):\n",
    "    ''' The idea is to split training set into l parts. train on l-1 partitions and test on 1 partition.\n",
    "        Then, find the mean accuracy of all l models for each value k (neighbors). \n",
    "        The optimal k will be found for all distance types. \n",
    "\n",
    "        input expectations:\n",
    "            distance_type (string): manhattan, euclidean, or cubic.\n",
    "            folds (int) \n",
    "            train_X (nxp numpy array) (The whole dataset is (m+n) x p)\n",
    "            test_X (mxp numpy array) \n",
    "            train_y ()\n",
    "\n",
    "    '''\n",
    "    kf = KFold(n_splits = folds, random_state = True, shuffle = True)\n",
    "    neighbors = [1,2,3,4,5,6]\n",
    "    accuracy_mat = list()\n",
    "    mean_accuracy = list()\n",
    "\n",
    "    for train_index, test_index in kf.split(train_X):       # Iterate through each of 10 folds for each lamda \n",
    "        temp_X_train = train_X[train_index]\n",
    "        temp_y_train = train_y[train_index]\n",
    "        temp_X_test = train_X[test_index]\n",
    "        temp_y_test = train_y[test_index]\n",
    "\n",
    "        accuracy_vec = np.zeros(len(neighbors))\n",
    "\n",
    "        for k in range(len(neighbors)):\n",
    "            accuracy_vec[k] = predict(temp_X_train,temp_y_train,temp_X_test,temp_y_test,neighbors[k],distance_type)\n",
    "        accuracy_mat.append(accuracy_vec)\n",
    "    accuracy_mat = np.array(accuracy_mat) \n",
    "    folds,neighbor = np.shape(accuracy_mat)\n",
    "    for i in range(neighbor):\n",
    "        accuracy = 0\n",
    "        for j in range(folds):\n",
    "            accuracy += accuracy_mat[j,i]\n",
    "        mean_accuracy.append(accuracy / folds)\n",
    "    max_value = max(mean_accuracy)\n",
    "    max_index = mean_accuracy.index(max_value)         # contains the mean prediction accuracy for each k neighbors value.\n",
    "    \n",
    "    # returned: First object: best k neighbors. Second object: list of prediction accuracies for all values of k\n",
    "    return neighbors[max_index], mean_accuracy "
   ]
  },
  {
   "cell_type": "code",
   "execution_count": 100,
   "id": "0f529636",
   "metadata": {},
   "outputs": [],
   "source": [
    "from sklearn.model_selection import KFold\n",
    "optimal_k,mean_accuracy = k_tune(train_X,train_y,distance_type = 'euclidean',folds=5)"
   ]
  },
  {
   "cell_type": "code",
   "execution_count": 101,
   "id": "2ff08651",
   "metadata": {},
   "outputs": [
    {
     "data": {
      "text/plain": [
       "4"
      ]
     },
     "execution_count": 101,
     "metadata": {},
     "output_type": "execute_result"
    }
   ],
   "source": [
    "optimal_k"
   ]
  },
  {
   "cell_type": "code",
   "execution_count": 102,
   "id": "c8ef89a3",
   "metadata": {},
   "outputs": [
    {
     "data": {
      "text/plain": [
       "[0.952, 0.96, 0.96, 0.968, 0.96, 0.96]"
      ]
     },
     "execution_count": 102,
     "metadata": {},
     "output_type": "execute_result"
    }
   ],
   "source": [
    "mean_accuracy"
   ]
  }
 ],
 "metadata": {
  "kernelspec": {
   "display_name": "Python 3",
   "language": "python",
   "name": "python3"
  },
  "language_info": {
   "codemirror_mode": {
    "name": "ipython",
    "version": 3
   },
   "file_extension": ".py",
   "mimetype": "text/x-python",
   "name": "python",
   "nbconvert_exporter": "python",
   "pygments_lexer": "ipython3",
   "version": "3.8.8"
  }
 },
 "nbformat": 4,
 "nbformat_minor": 5
}
