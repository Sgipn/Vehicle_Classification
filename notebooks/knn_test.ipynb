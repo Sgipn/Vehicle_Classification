{
 "cells": [
  {
   "cell_type": "code",
   "execution_count": 1,
   "id": "cf3d2796",
   "metadata": {},
   "outputs": [],
   "source": [
    "import numpy as np\n",
    "from sklearn.datasets import load_iris #testing purposes\n",
    "from sklearn.neighbors import KNeighborsClassifier"
   ]
  },
  {
   "cell_type": "code",
   "execution_count": 2,
   "id": "e1fbe044",
   "metadata": {},
   "outputs": [
    {
     "name": "stdout",
     "output_type": "stream",
     "text": [
      "(150, 4)\n",
      "(150,)\n"
     ]
    }
   ],
   "source": [
    "X = load_iris().data\n",
    "Y = load_iris().target\n",
    "print(np.shape(X))\n",
    "print(np.shape(Y))"
   ]
  },
  {
   "cell_type": "code",
   "execution_count": 3,
   "id": "67900666",
   "metadata": {},
   "outputs": [],
   "source": [
    "train_X = X[0:125:,:]\n",
    "train_y = Y[0:125]\n",
    "test_X = X[125:,:] \n",
    "test_y = Y[125:]"
   ]
  },
  {
   "cell_type": "code",
   "execution_count": 4,
   "id": "4d9db2ca",
   "metadata": {},
   "outputs": [
    {
     "data": {
      "text/plain": [
       "(25, 4)"
      ]
     },
     "execution_count": 4,
     "metadata": {},
     "output_type": "execute_result"
    }
   ],
   "source": [
    "np.shape(test_X)"
   ]
  },
  {
   "cell_type": "code",
   "execution_count": 5,
   "id": "e6727eb2",
   "metadata": {},
   "outputs": [
    {
     "data": {
      "text/plain": [
       "(125, 4)"
      ]
     },
     "execution_count": 5,
     "metadata": {},
     "output_type": "execute_result"
    }
   ],
   "source": [
    "np.shape(train_X) # n = 125 , m = 25"
   ]
  },
  {
   "cell_type": "markdown",
   "id": "03c1c320",
   "metadata": {},
   "source": [
    "## Predicting labels (returns accuracy)"
   ]
  },
  {
   "cell_type": "code",
   "execution_count": 6,
   "id": "887d3c62",
   "metadata": {},
   "outputs": [],
   "source": [
    "def predict(train_X,train_y,test_X,test_y,k,distance_type):\n",
    "    '''\n",
    "    train_X (nxp): design matrix of all training observations \n",
    "    train_y (nx1): vehicle class of each training observation. \n",
    "    test_X (mxp): design matrix of all testing observations\n",
    "    k: number of neighbors to consider\n",
    "    Note: 3 Minkowski distance types are considered: manhattan, euclidean, cubic.\n",
    "    '''\n",
    "    n,p = np.shape(train_X)\n",
    "    m,p = np.shape(test_X)\n",
    "    minimum_index = 0\n",
    "    predicted_labels = list()\n",
    "    dist = dict({'manhattan':1,'euclidean':2,'cubic':3})\n",
    "\n",
    "    for i in range(m):                     # predicting class of 25 vectors \n",
    "        distance = np.zeros(n)             # distance of all 125 training vectors from test vector i\n",
    "        neighbor_labels = list()\n",
    "        for j in range(n):                 # finding distance of every training vector from test vector\n",
    "            distance[j] = np.linalg.norm(test_X[i,:] - train_X[j,:],ord=dist[distance_type]) \n",
    "        ranked_distance = np.argsort(distance)                               # ranked_distance: indexes of n vectors sorted by increasing distance\n",
    "        \n",
    "        for l in ranked_distance[0:k]:\n",
    "            neighbor_labels.append(train_y[l]) # finding labels of neighbors\n",
    "\n",
    "        pred_label = max(set(neighbor_labels), key = neighbor_labels.count)  # choosing majority label\n",
    "        predicted_labels.append(pred_label)                                  # appending majority label of ith observation\n",
    "\n",
    "    accuracy_scratch = sum(test_y == predicted_labels) / len(test_y)\n",
    "\n",
    "    return accuracy_scratch # returns prediction accuracy"
   ]
  },
  {
   "cell_type": "code",
   "execution_count": 7,
   "id": "b3fa2a46",
   "metadata": {},
   "outputs": [
    {
     "data": {
      "text/plain": [
       "0.8"
      ]
     },
     "execution_count": 7,
     "metadata": {},
     "output_type": "execute_result"
    }
   ],
   "source": [
    "pred_labels = predict(train_X,train_y,test_X,test_y,k=5,distance_type='manhattan')\n",
    "pred_labels"
   ]
  },
  {
   "cell_type": "code",
   "execution_count": 8,
   "id": "d2a55cee",
   "metadata": {},
   "outputs": [],
   "source": [
    "# COMPARE WITH SKLEARN KNEIGHBORS\n",
    "\n",
    "neigh = KNeighborsClassifier(n_neighbors=5,p=1)\n",
    "neigh.fit(train_X, train_y)\n",
    "pred_vec = np.ones(len(test_y))\n",
    "for i in range(len(test_y)):\n",
    "    pred_vec[i] = neigh.predict([test_X[i,:]]) # 84% accuracy\n",
    "\n",
    "accuracy_sk = sum(test_y == pred_vec) / len(test_y)"
   ]
  },
  {
   "cell_type": "code",
   "execution_count": 9,
   "id": "1b3b3378",
   "metadata": {},
   "outputs": [
    {
     "data": {
      "text/plain": [
       "0.8"
      ]
     },
     "execution_count": 9,
     "metadata": {},
     "output_type": "execute_result"
    }
   ],
   "source": [
    "accuracy_sk"
   ]
  },
  {
   "cell_type": "markdown",
   "id": "fcc252e4",
   "metadata": {},
   "source": [
    "## Tuning k"
   ]
  },
  {
   "cell_type": "code",
   "execution_count": 10,
   "id": "7de4c44c",
   "metadata": {},
   "outputs": [],
   "source": [
    "def k_tune(train_X,train_y,distance_type,folds):\n",
    "    ''' The idea is to split training set into l parts. train on l-1 partitions and test on 1 partition.\n",
    "        Then, find the mean accuracy of all l models for each value k (neighbors). \n",
    "        The optimal k will be found for all distance types. \n",
    "\n",
    "        input expectations:\n",
    "            distance_type (string): manhattan, euclidean, or cubic.\n",
    "            folds (int) \n",
    "            train_X (nxp numpy array) \n",
    "            train_y (nx1 numpy array) \n",
    "\n",
    "    '''\n",
    "    kf = KFold(n_splits = folds, random_state = True, shuffle = True)\n",
    "    neighbors = [1,3,5,7,9]\n",
    "    accuracy_mat = list()\n",
    "    mean_accuracy = list()\n",
    "\n",
    "    for train_index, test_index in kf.split(train_X):       # Iterate through each of l folds for each lamda \n",
    "        temp_X_train = train_X[train_index]\n",
    "        temp_y_train = train_y[train_index]\n",
    "        temp_X_test = train_X[test_index]\n",
    "        temp_y_test = train_y[test_index]\n",
    "\n",
    "        accuracy_vec = np.zeros(len(neighbors))\n",
    "\n",
    "        for k in range(len(neighbors)):\n",
    "            accuracy_vec[k] = predict(temp_X_train,temp_y_train,temp_X_test,temp_y_test,neighbors[k],distance_type)\n",
    "        accuracy_mat.append(accuracy_vec)\n",
    "        \n",
    "    accuracy_mat = np.array(accuracy_mat) \n",
    "    folds,neighbor = np.shape(accuracy_mat)\n",
    "    for i in range(neighbor):\n",
    "        accuracy = 0\n",
    "        for j in range(folds):\n",
    "            accuracy += accuracy_mat[j,i]\n",
    "        mean_accuracy.append(accuracy / folds)\n",
    "    max_value = max(mean_accuracy)\n",
    "    max_index = mean_accuracy.index(max_value)         # contains the mean prediction accuracy for each k neighbors value.\n",
    "    \n",
    "    # returned: First object: best k neighbors. Second object: list of prediction accuracies for all values of k\n",
    "    return neighbors[max_index], max_value"
   ]
  },
  {
   "cell_type": "code",
   "execution_count": 11,
   "id": "7b0004dc",
   "metadata": {},
   "outputs": [],
   "source": [
    "from sklearn.model_selection import KFold\n",
    "optimal_k,max_value = k_tune(train_X,train_y,distance_type = 'cubic',folds=6)"
   ]
  },
  {
   "cell_type": "code",
   "execution_count": 12,
   "id": "2d8eaab2",
   "metadata": {},
   "outputs": [
    {
     "data": {
      "text/plain": [
       "5"
      ]
     },
     "execution_count": 12,
     "metadata": {},
     "output_type": "execute_result"
    }
   ],
   "source": [
    "optimal_k \n",
    "# Manhattan (L1 norm)\n",
    "#     3-fold: k=3\n",
    "#     4-fold: k=3\n",
    "#     5-fold: k=3\n",
    "#     6-fold: k=5 \n",
    "# Euclidean (L2 norm)\n",
    "#     3-fold: k=3\n",
    "#     4-fold: k=5\n",
    "#     5-fold: k=5\n",
    "#     6-fold: k=3\n",
    "# Cubic (L3 norm)\n",
    "#     3-fold: k=3\n",
    "#     4-fold: k=5\n",
    "#     5-fold: k=5\n",
    "#     6-fold: k=5 "
   ]
  },
  {
   "cell_type": "code",
   "execution_count": 13,
   "id": "510e1b71",
   "metadata": {},
   "outputs": [
    {
     "data": {
      "text/plain": [
       "0.9603174603174603"
      ]
     },
     "execution_count": 13,
     "metadata": {},
     "output_type": "execute_result"
    }
   ],
   "source": [
    "max_value"
   ]
  },
  {
   "cell_type": "markdown",
   "id": "f647ee21",
   "metadata": {},
   "source": [
    "### Fitting kNN on PCA-transformed data:"
   ]
  },
  {
   "cell_type": "code",
   "execution_count": 14,
   "id": "95bde742",
   "metadata": {},
   "outputs": [],
   "source": [
    "#load in design matrix:\n",
    "dat = np.load(\"dat_transform.npz\")\n",
    "\n",
    "#extract design matrix from npz file:\n",
    "dat = dat[\"arr_0\"]   # (25231,280)"
   ]
  },
  {
   "cell_type": "code",
   "execution_count": 15,
   "id": "73279571",
   "metadata": {},
   "outputs": [],
   "source": [
    "#load in response vector:\n",
    "response = np.load(\"response.npz\")\n",
    "\n",
    "#extract response vector from npz file:\n",
    "response = response[\"arr_0\"]   "
   ]
  },
  {
   "cell_type": "code",
   "execution_count": 16,
   "id": "e777ca45",
   "metadata": {},
   "outputs": [],
   "source": [
    "from sklearn.model_selection import train_test_split\n",
    "train_X, test_X, train_y, test_y = train_test_split(\n",
    "    dat, response, test_size=0.4, random_state=0\n",
    ")"
   ]
  },
  {
   "cell_type": "code",
   "execution_count": 17,
   "id": "4edf04b9",
   "metadata": {},
   "outputs": [
    {
     "data": {
      "text/plain": [
       "(10093,)"
      ]
     },
     "execution_count": 17,
     "metadata": {},
     "output_type": "execute_result"
    }
   ],
   "source": [
    "np.shape(train_X) # (20184, 500)\n",
    "np.shape(test_X) # (5047, 500)\n",
    "np.shape(train_y) # (20184,)\n",
    "np.shape(test_y) # (5047,)"
   ]
  },
  {
   "cell_type": "markdown",
   "id": "6e48f4a1",
   "metadata": {},
   "source": [
    "### Tuning k for our Transformed Data (We consider k = 1,3,5,7,9)\n",
    "* We consider folds: 3,4,5,6 to retain as many observations within the validation training and testing sets as possible \n",
    "- testing set size = [3364,6728], training set size > testing set size.\n",
    "\n",
    "|Distance Metric | Folds | Optimal k |    Average Validation Accuracy  |          Run time            |\n",
    "|----------------|-------|-----------|---------------------------------|------------------------------|\n",
    "|Manhattan       |   3   |     9     |          38.876%                |    5488.2107247 seconds      |\n",
    "|Euclidean       |   3   |     9     |          38.935%                |    5716.17 seconds           |"
   ]
  },
  {
   "cell_type": "code",
   "execution_count": 20,
   "id": "096665b1",
   "metadata": {},
   "outputs": [
    {
     "name": "stdout",
     "output_type": "stream",
     "text": [
      "The optimal number of neighbors for Manhattan distances with 3-folds is:  9 , with validation accuracy:  0.38875677103976747\n",
      "Run time is:  5488.2107247\n"
     ]
    }
   ],
   "source": [
    "import timeit\n",
    "timestart = timeit.default_timer()           # start timer\n",
    "\n",
    "optimal_k,max_value = k_tune(train_X,train_y,distance_type = 'manhattan',folds=3)\n",
    "\n",
    "timeend = timeit.default_timer()             # end timer\n",
    "time_elapsed = (timeend - timestart) # calculate elapsed time\n",
    "\n",
    "print(\"The optimal number of neighbors for Manhattan distances with 3-folds is: \",optimal_k,\", with validation accuracy: \",max_value)\n",
    "print(\"Run time is: \",time_elapsed)"
   ]
  },
  {
   "cell_type": "code",
   "execution_count": 21,
   "id": "34b0aaa6",
   "metadata": {},
   "outputs": [
    {
     "name": "stdout",
     "output_type": "stream",
     "text": [
      "The optimal number of neighbors for Euclidean distances with 3-folds is:  9 , with validation accuracy:  0.38935130136081386\n",
      "Run time is:  5716.176610099999\n"
     ]
    }
   ],
   "source": [
    "timestart = timeit.default_timer()           # start timer\n",
    "\n",
    "optimal_k,max_value = k_tune(train_X,train_y,distance_type = 'euclidean',folds=3)\n",
    "\n",
    "timeend = timeit.default_timer()             # end timer\n",
    "time_elapsed = (timeend - timestart) # calculate elapsed time\n",
    "\n",
    "print(\"The optimal number of neighbors for Euclidean distances with 3-folds is: \",optimal_k,\", with validation accuracy: \",max_value)\n",
    "print(\"Run time is: \",time_elapsed)"
   ]
  },
  {
   "cell_type": "markdown",
   "id": "0ca66569",
   "metadata": {},
   "source": [
    "### Test Accuracy:\n",
    "|Distance Metric |         k |           Test Accuracy         |          Run time            |\n",
    "|----------------|-----------|---------------------------------|------------------------------|\n",
    "|Manhattan       |     9     |          39.45%                 |    1136.14 seconds           |\n",
    "|Euclidean       |     9     |          39.08%                 |    1157.30 seconds           |"
   ]
  },
  {
   "cell_type": "code",
   "execution_count": 26,
   "id": "93fbc52b",
   "metadata": {},
   "outputs": [
    {
     "name": "stdout",
     "output_type": "stream",
     "text": [
      "Prediction accuracy for Manhattan distances is:  0.39453086297433865\n",
      "Run-time for Manhattan distances is:  1136.135374900001\n"
     ]
    }
   ],
   "source": [
    "timestart = timeit.default_timer()           # start timer\n",
    "\n",
    "mahattan_9 = predict(train_X,train_y,test_X,test_y,k=9,distance_type='manhattan')\n",
    "timeend = timeit.default_timer()             # end timer\n",
    "time_elapsed = (timeend - timestart) # calculate elapsed time\n",
    "\n",
    "print(\"Prediction accuracy for Manhattan distances is: \",mahattan_9)\n",
    "print(\"Run-time for Manhattan distances is: \",time_elapsed)"
   ]
  },
  {
   "cell_type": "code",
   "execution_count": 29,
   "id": "bcb81023",
   "metadata": {},
   "outputs": [
    {
     "name": "stdout",
     "output_type": "stream",
     "text": [
      "Prediction accuracy for Manhattan distances is:  0.39086495591003667\n",
      "Run-time for Manhattan distances is:  1157.3048200999983\n"
     ]
    }
   ],
   "source": [
    "timestart = timeit.default_timer()           # start timer\n",
    "\n",
    "euclidean_9 = predict(train_X,train_y,test_X,test_y,k=9,distance_type='euclidean')\n",
    "timeend = timeit.default_timer()             # end timer\n",
    "time_elapsed = (timeend - timestart) # calculate elapsed time\n",
    "\n",
    "print(\"Prediction accuracy for Manhattan distances is: \",euclidean_9)\n",
    "print(\"Run-time for Manhattan distances is: \",euclidean_9)"
   ]
  }
 ],
 "metadata": {
  "kernelspec": {
   "display_name": "Python 3",
   "language": "python",
   "name": "python3"
  },
  "language_info": {
   "codemirror_mode": {
    "name": "ipython",
    "version": 3
   },
   "file_extension": ".py",
   "mimetype": "text/x-python",
   "name": "python",
   "nbconvert_exporter": "python",
   "pygments_lexer": "ipython3",
   "version": "3.8.8"
  }
 },
 "nbformat": 4,
 "nbformat_minor": 5
}
