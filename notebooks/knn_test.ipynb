{
 "cells": [
  {
   "cell_type": "code",
   "execution_count": 22,
   "id": "cf3d2796",
   "metadata": {},
   "outputs": [],
   "source": [
    "import numpy as np\n",
    "from sklearn.datasets import load_iris #testing purposes\n",
    "from sklearn.neighbors import KNeighborsClassifier"
   ]
  },
  {
   "cell_type": "code",
   "execution_count": 23,
   "id": "e1fbe044",
   "metadata": {},
   "outputs": [
    {
     "name": "stdout",
     "output_type": "stream",
     "text": [
      "(150, 4)\n",
      "(150,)\n"
     ]
    }
   ],
   "source": [
    "X = load_iris().data\n",
    "Y = load_iris().target\n",
    "print(np.shape(X))\n",
    "print(np.shape(Y))"
   ]
  },
  {
   "cell_type": "code",
   "execution_count": 24,
   "id": "67900666",
   "metadata": {},
   "outputs": [],
   "source": [
    "train_X = X[0:125:,:]\n",
    "train_y = Y[0:125]\n",
    "test_X = X[125:,:] \n",
    "test_y = Y[125:]"
   ]
  },
  {
   "cell_type": "code",
   "execution_count": 25,
   "id": "4d9db2ca",
   "metadata": {},
   "outputs": [
    {
     "data": {
      "text/plain": [
       "(25, 4)"
      ]
     },
     "execution_count": 25,
     "metadata": {},
     "output_type": "execute_result"
    }
   ],
   "source": [
    "np.shape(test_X)"
   ]
  },
  {
   "cell_type": "code",
   "execution_count": 26,
   "id": "e6727eb2",
   "metadata": {},
   "outputs": [
    {
     "data": {
      "text/plain": [
       "(125, 4)"
      ]
     },
     "execution_count": 26,
     "metadata": {},
     "output_type": "execute_result"
    }
   ],
   "source": [
    "np.shape(train_X) # n = 125 , m = 25"
   ]
  },
  {
   "cell_type": "code",
   "execution_count": 27,
   "id": "3e10fd95",
   "metadata": {},
   "outputs": [],
   "source": [
    "def predict(train_X,train_y,test_X,k,distance_type):\n",
    "    '''\n",
    "    train_X (nxp): design matrix of all training observations \n",
    "    train_y (nx1): vehicle class of each training observation. \n",
    "    test_X (mxp): design matrix of all testing observations\n",
    "    k: number of neighbors to consider\n",
    "    Note: 3 Minkowski distance types are considered: manhattan, euclidean, cubic.\n",
    "    '''\n",
    "    n,p = np.shape(train_X)\n",
    "    m,p = np.shape(test_X)\n",
    "    minimum_index = 0\n",
    "    predicted_labels = list()\n",
    "\n",
    "    for i in range(m):                     # predicting class of 25 vectors \n",
    "        distance = np.zeros(n)             # distance of all 125 training vectors from test vector i\n",
    "        neighbor_labels = list()\n",
    "        for j in range(n):                 # finding distance of every training vector from test vector\n",
    "            if distance_type == 'manhattan':\n",
    "                distance[j] = np.linalg.norm(test_X[i,:] - train_X[j,:],ord=1) \n",
    "            elif distance_type == 'euclidean':\n",
    "                distance[j] = np.linalg.norm(test_X[i,:] - train_X[j,:],ord=2) \n",
    "            elif distance_type == 'cubic':\n",
    "                distance[j] = np.linalg.norm(test_X[i,:] - train_X[j,:],ord=3) \n",
    "        ranked_distance = np.argsort(distance)                               # ranked_distance: indexes of n vectors sorted by increasing distance\n",
    "        for l in range(k):                                         \n",
    "            neighbor_labels.append(train_y[ranked_distance[l]])              # finding labels of neighbors\n",
    "    \n",
    "        pred_label = max(set(neighbor_labels), key = neighbor_labels.count)  # choosing majority label\n",
    "        predicted_labels.append(pred_label)                                  # appending majority label of ith observation\n",
    "    \n",
    "    return predicted_labels"
   ]
  },
  {
   "cell_type": "code",
   "execution_count": 28,
   "id": "b3fa2a46",
   "metadata": {},
   "outputs": [],
   "source": [
    "pred_labels = predict(train_X,train_y,test_X,5,'euclidean')"
   ]
  },
  {
   "cell_type": "code",
   "execution_count": 30,
   "id": "9620ad7c",
   "metadata": {},
   "outputs": [
    {
     "data": {
      "text/plain": [
       "0.84"
      ]
     },
     "execution_count": 30,
     "metadata": {},
     "output_type": "execute_result"
    }
   ],
   "source": [
    "pred_labels # predicted labels of last 25 observations \n",
    "\n",
    "accuracy_scratch = sum(test_y == pred_labels) / len(test_y)\n",
    "accuracy_scratch\n",
    "# 84% accuracy"
   ]
  },
  {
   "cell_type": "code",
   "execution_count": 31,
   "id": "2ec1be43",
   "metadata": {},
   "outputs": [
    {
     "data": {
      "text/plain": [
       "array([0, 0, 0, 0, 0, 0, 0, 0, 0, 0, 0, 0, 0, 0, 0, 0, 0, 0, 0, 0, 0, 0,\n",
       "       0, 0, 0, 0, 0, 0, 0, 0, 0, 0, 0, 0, 0, 0, 0, 0, 0, 0, 0, 0, 0, 0,\n",
       "       0, 0, 0, 0, 0, 0, 1, 1, 1, 1, 1, 1, 1, 1, 1, 1, 1, 1, 1, 1, 1, 1,\n",
       "       1, 1, 1, 1, 1, 1, 1, 1, 1, 1, 1, 1, 1, 1, 1, 1, 1, 1, 1, 1, 1, 1,\n",
       "       1, 1, 1, 1, 1, 1, 1, 1, 1, 1, 1, 1, 2, 2, 2, 2, 2, 2, 2, 2, 2, 2,\n",
       "       2, 2, 2, 2, 2, 2, 2, 2, 2, 2, 2, 2, 2, 2, 2, 2, 2, 2, 2, 2, 2, 2,\n",
       "       2, 2, 2, 2, 2, 2, 2, 2, 2, 2, 2, 2, 2, 2, 2, 2, 2, 2])"
      ]
     },
     "execution_count": 31,
     "metadata": {},
     "output_type": "execute_result"
    }
   ],
   "source": [
    "Y # actual labels  "
   ]
  },
  {
   "cell_type": "code",
   "execution_count": 32,
   "id": "d2a55cee",
   "metadata": {},
   "outputs": [],
   "source": [
    "# COMPARE WITH SKLEARN KNEIGHBORS\n",
    "\n",
    "neigh = KNeighborsClassifier(n_neighbors=5)\n",
    "neigh.fit(train_X, train_y)\n",
    "pred_vec = np.ones(len(test_y))\n",
    "for i in range(len(test_y)):\n",
    "    pred_vec[i] = neigh.predict([test_X[i,:]]) # 84% accuracy\n",
    "\n",
    "accuracy_sk = sum(test_y == pred_vec) / len(test_y)"
   ]
  },
  {
   "cell_type": "code",
   "execution_count": 34,
   "id": "0bcb44f8",
   "metadata": {},
   "outputs": [
    {
     "data": {
      "text/plain": [
       "0.84"
      ]
     },
     "execution_count": 34,
     "metadata": {},
     "output_type": "execute_result"
    }
   ],
   "source": [
    "accuracy_sk"
   ]
  }
 ],
 "metadata": {
  "kernelspec": {
   "display_name": "Python 3",
   "language": "python",
   "name": "python3"
  },
  "language_info": {
   "codemirror_mode": {
    "name": "ipython",
    "version": 3
   },
   "file_extension": ".py",
   "mimetype": "text/x-python",
   "name": "python",
   "nbconvert_exporter": "python",
   "pygments_lexer": "ipython3",
   "version": "3.8.8"
  }
 },
 "nbformat": 4,
 "nbformat_minor": 5
}
