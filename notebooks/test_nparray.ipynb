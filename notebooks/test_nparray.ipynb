{
 "cells": [
  {
   "cell_type": "markdown",
   "metadata": {},
   "source": []
  },
  {
   "cell_type": "code",
   "execution_count": 2,
   "metadata": {},
   "outputs": [],
   "source": [
    "#import libraries:\n",
    "import pandas as pd\n",
    "import numpy as np\n",
    "import scipy as sp\n",
    "from matplotlib.image import imread \n",
    "import matplotlib.pyplot as plt\n",
    "import matplotlib.image as mpimg\n",
    "from skimage.color import rgb2gray\n",
    "from PIL import Image\n",
    "from skimage import io\n",
    "from numpy import *\n",
    "import plotnine as p9"
   ]
  },
  {
   "cell_type": "code",
   "execution_count": 3,
   "metadata": {},
   "outputs": [
    {
     "name": "stderr",
     "output_type": "stream",
     "text": [
      "C:\\Users\\kxu97\\anaconda3\\lib\\site-packages\\IPython\\core\\interactiveshell.py:3165: DtypeWarning: Columns (3) have mixed types.Specify dtype option on import or set low_memory=False.\n"
     ]
    },
    {
     "data": {
      "text/html": [
       "<div>\n",
       "<style scoped>\n",
       "    .dataframe tbody tr th:only-of-type {\n",
       "        vertical-align: middle;\n",
       "    }\n",
       "\n",
       "    .dataframe tbody tr th {\n",
       "        vertical-align: top;\n",
       "    }\n",
       "\n",
       "    .dataframe thead th {\n",
       "        text-align: right;\n",
       "    }\n",
       "</style>\n",
       "<table border=\"1\" class=\"dataframe\">\n",
       "  <thead>\n",
       "    <tr style=\"text-align: right;\">\n",
       "      <th></th>\n",
       "      <th>Image_Path</th>\n",
       "      <th>Brand</th>\n",
       "      <th>Model</th>\n",
       "      <th>Edition</th>\n",
       "      <th>Year</th>\n",
       "      <th>Condition</th>\n",
       "      <th>Transmission</th>\n",
       "      <th>Body</th>\n",
       "      <th>Fuel</th>\n",
       "      <th>Capacity</th>\n",
       "    </tr>\n",
       "  </thead>\n",
       "  <tbody>\n",
       "    <tr>\n",
       "      <th>0</th>\n",
       "      <td>vehicle_images/1633889154186_Toyota Hilux 2006...</td>\n",
       "      <td>Toyota</td>\n",
       "      <td>Hilux</td>\n",
       "      <td>Hilux</td>\n",
       "      <td>2006</td>\n",
       "      <td>Used</td>\n",
       "      <td>Manual</td>\n",
       "      <td>SUV / 4x4</td>\n",
       "      <td>Diesel</td>\n",
       "      <td>2,500 cc</td>\n",
       "    </tr>\n",
       "    <tr>\n",
       "      <th>1</th>\n",
       "      <td>vehicle_images/1633889154395_Land Rover Freela...</td>\n",
       "      <td>Land Rover</td>\n",
       "      <td>Freelander</td>\n",
       "      <td>1999</td>\n",
       "      <td>1999</td>\n",
       "      <td>Used</td>\n",
       "      <td>Manual</td>\n",
       "      <td>SUV / 4x4</td>\n",
       "      <td>Diesel</td>\n",
       "      <td>1,990 cc</td>\n",
       "    </tr>\n",
       "    <tr>\n",
       "      <th>2</th>\n",
       "      <td>vehicle_images/1633889154545_Nissan Leaf G Gra...</td>\n",
       "      <td>Nissan</td>\n",
       "      <td>Leaf</td>\n",
       "      <td>G Grade</td>\n",
       "      <td>2014</td>\n",
       "      <td>Used</td>\n",
       "      <td>Automatic</td>\n",
       "      <td>Hatchback</td>\n",
       "      <td>Electric</td>\n",
       "      <td>70 cc</td>\n",
       "    </tr>\n",
       "    <tr>\n",
       "      <th>3</th>\n",
       "      <td>vehicle_images/1633889154697_Mercedes Benz C20...</td>\n",
       "      <td>Mercedes Benz</td>\n",
       "      <td>C200</td>\n",
       "      <td>C-Cabriolet AMG Line</td>\n",
       "      <td>2016</td>\n",
       "      <td>Used</td>\n",
       "      <td>Automatic</td>\n",
       "      <td>Convertible</td>\n",
       "      <td>Petrol</td>\n",
       "      <td>2,000 cc</td>\n",
       "    </tr>\n",
       "    <tr>\n",
       "      <th>4</th>\n",
       "      <td>vehicle_images/1633889154870_Toyota Vitz 2018 ...</td>\n",
       "      <td>Toyota</td>\n",
       "      <td>Vitz</td>\n",
       "      <td>2018</td>\n",
       "      <td>2018</td>\n",
       "      <td>Used</td>\n",
       "      <td>Automatic</td>\n",
       "      <td>Hatchback</td>\n",
       "      <td>Petrol</td>\n",
       "      <td>1,000 cc</td>\n",
       "    </tr>\n",
       "  </tbody>\n",
       "</table>\n",
       "</div>"
      ],
      "text/plain": [
       "                                          Image_Path          Brand  \\\n",
       "0  vehicle_images/1633889154186_Toyota Hilux 2006...         Toyota   \n",
       "1  vehicle_images/1633889154395_Land Rover Freela...     Land Rover   \n",
       "2  vehicle_images/1633889154545_Nissan Leaf G Gra...         Nissan   \n",
       "3  vehicle_images/1633889154697_Mercedes Benz C20...  Mercedes Benz   \n",
       "4  vehicle_images/1633889154870_Toyota Vitz 2018 ...         Toyota   \n",
       "\n",
       "        Model               Edition  Year Condition Transmission         Body  \\\n",
       "0       Hilux                 Hilux  2006      Used       Manual    SUV / 4x4   \n",
       "1  Freelander                  1999  1999      Used       Manual    SUV / 4x4   \n",
       "2        Leaf               G Grade  2014      Used    Automatic    Hatchback   \n",
       "3        C200  C-Cabriolet AMG Line  2016      Used    Automatic  Convertible   \n",
       "4        Vitz                  2018  2018      Used    Automatic    Hatchback   \n",
       "\n",
       "       Fuel  Capacity  \n",
       "0    Diesel  2,500 cc  \n",
       "1    Diesel  1,990 cc  \n",
       "2  Electric     70 cc  \n",
       "3    Petrol  2,000 cc  \n",
       "4    Petrol  1,000 cc  "
      ]
     },
     "execution_count": 3,
     "metadata": {},
     "output_type": "execute_result"
    }
   ],
   "source": [
    "#read in image CSV file:\n",
    "imgs = pd.read_csv(\"C:/Users/kxu97/OneDrive/Documents/School/2021-2022/Winter '22/STA142A/FinalProject/datasets/vehcle_img_data.csv\")\n",
    "imgs.head()\n"
   ]
  },
  {
   "cell_type": "markdown",
   "metadata": {},
   "source": [
    "For the scope of this project, we will only consider 5 different classes."
   ]
  },
  {
   "cell_type": "code",
   "execution_count": 4,
   "metadata": {},
   "outputs": [
    {
     "data": {
      "text/html": [
       "<div>\n",
       "<style scoped>\n",
       "    .dataframe tbody tr th:only-of-type {\n",
       "        vertical-align: middle;\n",
       "    }\n",
       "\n",
       "    .dataframe tbody tr th {\n",
       "        vertical-align: top;\n",
       "    }\n",
       "\n",
       "    .dataframe thead th {\n",
       "        text-align: right;\n",
       "    }\n",
       "</style>\n",
       "<table border=\"1\" class=\"dataframe\">\n",
       "  <thead>\n",
       "    <tr style=\"text-align: right;\">\n",
       "      <th></th>\n",
       "      <th>Image_Path</th>\n",
       "      <th>Brand</th>\n",
       "      <th>Model</th>\n",
       "      <th>Edition</th>\n",
       "      <th>Year</th>\n",
       "      <th>Condition</th>\n",
       "      <th>Transmission</th>\n",
       "      <th>Body</th>\n",
       "      <th>Fuel</th>\n",
       "      <th>Capacity</th>\n",
       "    </tr>\n",
       "  </thead>\n",
       "  <tbody>\n",
       "    <tr>\n",
       "      <th>0</th>\n",
       "      <td>vehicle_images/1633889154186_Toyota Hilux 2006...</td>\n",
       "      <td>Toyota</td>\n",
       "      <td>Hilux</td>\n",
       "      <td>Hilux</td>\n",
       "      <td>2006</td>\n",
       "      <td>Used</td>\n",
       "      <td>Manual</td>\n",
       "      <td>14</td>\n",
       "      <td>Diesel</td>\n",
       "      <td>2,500 cc</td>\n",
       "    </tr>\n",
       "    <tr>\n",
       "      <th>1</th>\n",
       "      <td>vehicle_images/1633889154395_Land Rover Freela...</td>\n",
       "      <td>Land Rover</td>\n",
       "      <td>Freelander</td>\n",
       "      <td>1999</td>\n",
       "      <td>1999</td>\n",
       "      <td>Used</td>\n",
       "      <td>Manual</td>\n",
       "      <td>14</td>\n",
       "      <td>Diesel</td>\n",
       "      <td>1,990 cc</td>\n",
       "    </tr>\n",
       "    <tr>\n",
       "      <th>2</th>\n",
       "      <td>vehicle_images/1633889154545_Nissan Leaf G Gra...</td>\n",
       "      <td>Nissan</td>\n",
       "      <td>Leaf</td>\n",
       "      <td>G Grade</td>\n",
       "      <td>2014</td>\n",
       "      <td>Used</td>\n",
       "      <td>Automatic</td>\n",
       "      <td>6</td>\n",
       "      <td>Electric</td>\n",
       "      <td>70 cc</td>\n",
       "    </tr>\n",
       "    <tr>\n",
       "      <th>3</th>\n",
       "      <td>vehicle_images/1633889154697_Mercedes Benz C20...</td>\n",
       "      <td>Mercedes Benz</td>\n",
       "      <td>C200</td>\n",
       "      <td>C-Cabriolet AMG Line</td>\n",
       "      <td>2016</td>\n",
       "      <td>Used</td>\n",
       "      <td>Automatic</td>\n",
       "      <td>4</td>\n",
       "      <td>Petrol</td>\n",
       "      <td>2,000 cc</td>\n",
       "    </tr>\n",
       "    <tr>\n",
       "      <th>4</th>\n",
       "      <td>vehicle_images/1633889154870_Toyota Vitz 2018 ...</td>\n",
       "      <td>Toyota</td>\n",
       "      <td>Vitz</td>\n",
       "      <td>2018</td>\n",
       "      <td>2018</td>\n",
       "      <td>Used</td>\n",
       "      <td>Automatic</td>\n",
       "      <td>6</td>\n",
       "      <td>Petrol</td>\n",
       "      <td>1,000 cc</td>\n",
       "    </tr>\n",
       "  </tbody>\n",
       "</table>\n",
       "</div>"
      ],
      "text/plain": [
       "                                          Image_Path          Brand  \\\n",
       "0  vehicle_images/1633889154186_Toyota Hilux 2006...         Toyota   \n",
       "1  vehicle_images/1633889154395_Land Rover Freela...     Land Rover   \n",
       "2  vehicle_images/1633889154545_Nissan Leaf G Gra...         Nissan   \n",
       "3  vehicle_images/1633889154697_Mercedes Benz C20...  Mercedes Benz   \n",
       "4  vehicle_images/1633889154870_Toyota Vitz 2018 ...         Toyota   \n",
       "\n",
       "        Model               Edition  Year Condition Transmission  Body  \\\n",
       "0       Hilux                 Hilux  2006      Used       Manual    14   \n",
       "1  Freelander                  1999  1999      Used       Manual    14   \n",
       "2        Leaf               G Grade  2014      Used    Automatic     6   \n",
       "3        C200  C-Cabriolet AMG Line  2016      Used    Automatic     4   \n",
       "4        Vitz                  2018  2018      Used    Automatic     6   \n",
       "\n",
       "       Fuel  Capacity  \n",
       "0    Diesel  2,500 cc  \n",
       "1    Diesel  1,990 cc  \n",
       "2  Electric     70 cc  \n",
       "3    Petrol  2,000 cc  \n",
       "4    Petrol  1,000 cc  "
      ]
     },
     "execution_count": 4,
     "metadata": {},
     "output_type": "execute_result"
    }
   ],
   "source": [
    "#encode the response variable:\n",
    "#ensure response column is of categorical datatype:\n",
    "imgs[\"Body\"] = imgs[\"Body\"].astype(\"category\").cat.codes\n",
    "\n",
    "#assign numerical labels:\n",
    "#imgs[\"Body\"] = imgs[\"Body\"].cat.codes\n",
    "#imgs = imgs[imgs[\"Body\"] <= 5]\n",
    "imgs.head()"
   ]
  },
  {
   "cell_type": "code",
   "execution_count": 5,
   "metadata": {},
   "outputs": [
    {
     "data": {
      "text/plain": [
       " 3     21984\n",
       " 10    15723\n",
       " 20     5595\n",
       " 6      5502\n",
       " 17     5099\n",
       " 15     4787\n",
       " 8      4248\n",
       " 13     3583\n",
       " 14     3282\n",
       " 12     1492\n",
       "-1      1224\n",
       " 19     1076\n",
       " 1      1070\n",
       " 18      779\n",
       " 0       617\n",
       " 16      584\n",
       " 21      513\n",
       " 7       351\n",
       " 2       158\n",
       " 9       149\n",
       " 5       111\n",
       " 4        50\n",
       " 11        3\n",
       "Name: Body, dtype: int64"
      ]
     },
     "execution_count": 5,
     "metadata": {},
     "output_type": "execute_result"
    }
   ],
   "source": [
    "imgs[\"Body\"].value_counts()"
   ]
  },
  {
   "cell_type": "markdown",
   "metadata": {},
   "source": [
    "To avoid class imbalance and skewness, we will pick classes with similar number of images belonging to them."
   ]
  },
  {
   "cell_type": "code",
   "execution_count": 6,
   "metadata": {},
   "outputs": [
    {
     "data": {
      "text/html": [
       "<div>\n",
       "<style scoped>\n",
       "    .dataframe tbody tr th:only-of-type {\n",
       "        vertical-align: middle;\n",
       "    }\n",
       "\n",
       "    .dataframe tbody tr th {\n",
       "        vertical-align: top;\n",
       "    }\n",
       "\n",
       "    .dataframe thead th {\n",
       "        text-align: right;\n",
       "    }\n",
       "</style>\n",
       "<table border=\"1\" class=\"dataframe\">\n",
       "  <thead>\n",
       "    <tr style=\"text-align: right;\">\n",
       "      <th></th>\n",
       "      <th>Image_Path</th>\n",
       "      <th>Brand</th>\n",
       "      <th>Model</th>\n",
       "      <th>Edition</th>\n",
       "      <th>Year</th>\n",
       "      <th>Condition</th>\n",
       "      <th>Transmission</th>\n",
       "      <th>Body</th>\n",
       "      <th>Fuel</th>\n",
       "      <th>Capacity</th>\n",
       "    </tr>\n",
       "  </thead>\n",
       "  <tbody>\n",
       "    <tr>\n",
       "      <th>2</th>\n",
       "      <td>vehicle_images/1633889154545_Nissan Leaf G Gra...</td>\n",
       "      <td>Nissan</td>\n",
       "      <td>Leaf</td>\n",
       "      <td>G Grade</td>\n",
       "      <td>2014</td>\n",
       "      <td>Used</td>\n",
       "      <td>Automatic</td>\n",
       "      <td>6</td>\n",
       "      <td>Electric</td>\n",
       "      <td>70 cc</td>\n",
       "    </tr>\n",
       "    <tr>\n",
       "      <th>4</th>\n",
       "      <td>vehicle_images/1633889154870_Toyota Vitz 2018 ...</td>\n",
       "      <td>Toyota</td>\n",
       "      <td>Vitz</td>\n",
       "      <td>2018</td>\n",
       "      <td>2018</td>\n",
       "      <td>Used</td>\n",
       "      <td>Automatic</td>\n",
       "      <td>6</td>\n",
       "      <td>Petrol</td>\n",
       "      <td>1,000 cc</td>\n",
       "    </tr>\n",
       "    <tr>\n",
       "      <th>5</th>\n",
       "      <td>vehicle_images/1633889155051_Toyota Starlet EP...</td>\n",
       "      <td>Toyota</td>\n",
       "      <td>Starlet</td>\n",
       "      <td>EP71</td>\n",
       "      <td>1990</td>\n",
       "      <td>Used</td>\n",
       "      <td>Manual</td>\n",
       "      <td>6</td>\n",
       "      <td>Petrol</td>\n",
       "      <td>1,300 cc</td>\n",
       "    </tr>\n",
       "    <tr>\n",
       "      <th>6</th>\n",
       "      <td>vehicle_images/1633889155191_Toyota Aqua S 201...</td>\n",
       "      <td>Toyota</td>\n",
       "      <td>Aqua</td>\n",
       "      <td>S</td>\n",
       "      <td>2014</td>\n",
       "      <td>Used</td>\n",
       "      <td>Automatic</td>\n",
       "      <td>6</td>\n",
       "      <td>Hybrid</td>\n",
       "      <td>1,500 cc</td>\n",
       "    </tr>\n",
       "    <tr>\n",
       "      <th>8</th>\n",
       "      <td>vehicle_images/1633889155496_Toyota Axio editi...</td>\n",
       "      <td>Toyota</td>\n",
       "      <td>Axio</td>\n",
       "      <td>edition</td>\n",
       "      <td>2015</td>\n",
       "      <td>Used</td>\n",
       "      <td>Automatic</td>\n",
       "      <td>15</td>\n",
       "      <td>Petrol</td>\n",
       "      <td>1,500 cc</td>\n",
       "    </tr>\n",
       "  </tbody>\n",
       "</table>\n",
       "</div>"
      ],
      "text/plain": [
       "                                          Image_Path   Brand    Model  \\\n",
       "2  vehicle_images/1633889154545_Nissan Leaf G Gra...  Nissan     Leaf   \n",
       "4  vehicle_images/1633889154870_Toyota Vitz 2018 ...  Toyota     Vitz   \n",
       "5  vehicle_images/1633889155051_Toyota Starlet EP...  Toyota  Starlet   \n",
       "6  vehicle_images/1633889155191_Toyota Aqua S 201...  Toyota     Aqua   \n",
       "8  vehicle_images/1633889155496_Toyota Axio editi...  Toyota     Axio   \n",
       "\n",
       "   Edition  Year Condition Transmission  Body      Fuel  Capacity  \n",
       "2  G Grade  2014      Used    Automatic     6  Electric     70 cc  \n",
       "4     2018  2018      Used    Automatic     6    Petrol  1,000 cc  \n",
       "5     EP71  1990      Used       Manual     6    Petrol  1,300 cc  \n",
       "6        S  2014      Used    Automatic     6    Hybrid  1,500 cc  \n",
       "8  edition  2015      Used    Automatic    15    Petrol  1,500 cc  "
      ]
     },
     "execution_count": 6,
     "metadata": {},
     "output_type": "execute_result"
    }
   ],
   "source": [
    "imgs = imgs[imgs[\"Body\"].isin([20,6,17,15,8])]\n",
    "imgs.head()"
   ]
  },
  {
   "cell_type": "code",
   "execution_count": 7,
   "metadata": {},
   "outputs": [],
   "source": [
    "#create response vector:\n",
    "response = imgs[\"Body\"].to_numpy()"
   ]
  },
  {
   "cell_type": "code",
   "execution_count": 8,
   "metadata": {},
   "outputs": [
    {
     "data": {
      "text/plain": [
       "25231"
      ]
     },
     "execution_count": 8,
     "metadata": {},
     "output_type": "execute_result"
    }
   ],
   "source": [
    "len(imgs)"
   ]
  },
  {
   "cell_type": "code",
   "execution_count": 9,
   "metadata": {},
   "outputs": [
    {
     "data": {
      "text/plain": [
       "25231"
      ]
     },
     "execution_count": 9,
     "metadata": {},
     "output_type": "execute_result"
    }
   ],
   "source": [
    "len(response)"
   ]
  },
  {
   "cell_type": "code",
   "execution_count": 20,
   "metadata": {},
   "outputs": [
    {
     "name": "stdout",
     "output_type": "stream",
     "text": [
      "25231\n"
     ]
    }
   ],
   "source": [
    "#extract rows where image_path is not blank:\n",
    "#replace blanks in image path col with NA:\n",
    "imgs[\"Image_Path\"].replace('', np.nan, inplace=True)\n",
    "\n",
    "#keep rows without NA in the image path column:\n",
    "imgs = imgs[imgs[\"Image_Path\"].notna()]\n",
    "print(len(imgs))"
   ]
  },
  {
   "cell_type": "code",
   "execution_count": 23,
   "metadata": {},
   "outputs": [
    {
     "data": {
      "text/plain": [
       "array([[[187, 200, 206],\n",
       "        [207, 221, 224],\n",
       "        [214, 228, 231],\n",
       "        ...,\n",
       "        [173, 178, 171],\n",
       "        [137, 139, 134],\n",
       "        [243, 242, 238]],\n",
       "\n",
       "       [[108, 119, 125],\n",
       "        [138, 149, 155],\n",
       "        [152, 163, 169],\n",
       "        ...,\n",
       "        [161, 166, 159],\n",
       "        [178, 179, 173],\n",
       "        [255, 255, 250]],\n",
       "\n",
       "       [[ 54,  62,  73],\n",
       "        [ 89,  97, 108],\n",
       "        [108, 117, 126],\n",
       "        ...,\n",
       "        [115, 118, 109],\n",
       "        [196, 197, 189],\n",
       "        [255, 255, 248]],\n",
       "\n",
       "       ...,\n",
       "\n",
       "       [[ 75,  63,  63],\n",
       "        [ 79,  67,  67],\n",
       "        [ 86,  74,  74],\n",
       "        ...,\n",
       "        [121, 110, 106],\n",
       "        [123, 112, 108],\n",
       "        [124, 113, 107]],\n",
       "\n",
       "       [[ 53,  42,  40],\n",
       "        [ 55,  44,  42],\n",
       "        [ 60,  49,  47],\n",
       "        ...,\n",
       "        [104,  93,  89],\n",
       "        [104,  93,  89],\n",
       "        [102,  91,  85]],\n",
       "\n",
       "       [[ 80,  66,  63],\n",
       "        [ 78,  67,  63],\n",
       "        [ 79,  68,  66],\n",
       "        ...,\n",
       "        [114, 103,  99],\n",
       "        [109,  98,  94],\n",
       "        [106,  95,  89]]], dtype=uint8)"
      ]
     },
     "execution_count": 23,
     "metadata": {},
     "output_type": "execute_result"
    }
   ],
   "source": [
    "np.array(Image.open(string))"
   ]
  },
  {
   "cell_type": "code",
   "execution_count": 28,
   "metadata": {},
   "outputs": [
    {
     "name": "stdout",
     "output_type": "stream",
     "text": [
      "vehicle_images/1635928138821_Toyota Vitz KSP90 2007 for sale.jpg\n"
     ]
    },
    {
     "data": {
      "text/plain": [
       "\"C:/Users/kxu97/OneDrive/Documents/School/2021-2022/Winter '22/STA142A/FinalProject/datasets/vehicle_images/1635928137312_Suzuki Wagon R FZ 2017 for sale.jpg\""
      ]
     },
     "execution_count": 28,
     "metadata": {},
     "output_type": "execute_result"
    }
   ],
   "source": [
    "#load an image:\n",
    "print(imgs.iat[10200,0])\n",
    "string = \"C:/Users/kxu97/OneDrive/Documents/School/2021-2022/Winter '22/STA142A/FinalProject/datasets/\" + imgs.iat[10199,0]\n",
    "string"
   ]
  },
  {
   "cell_type": "code",
   "execution_count": 41,
   "metadata": {},
   "outputs": [],
   "source": [
    "img = rgb2gray(np.array(Image.open(string)))"
   ]
  },
  {
   "cell_type": "code",
   "execution_count": 42,
   "metadata": {},
   "outputs": [
    {
     "name": "stdout",
     "output_type": "stream",
     "text": [
      "(107, 142)\n"
     ]
    },
    {
     "data": {
      "image/png": "[encoded data removed]",
      "text/plain": [
       "<Figure size 432x288 with 1 Axes>"
      ]
     },
     "metadata": {
      "needs_background": "light"
     },
     "output_type": "display_data"
    }
   ],
   "source": [
    "plt.imshow(img, cmap = \"gray\" )\n",
    "print(np.shape(img))"
   ]
  },
  {
   "cell_type": "code",
   "execution_count": 43,
   "metadata": {},
   "outputs": [
    {
     "data": {
      "text/plain": [
       "\"C:/Users/kxu97/OneDrive/Documents/School/2021-2022/Winter '22/STA142A/FinalProject/datasets/vehicle_images/1635928137312_Suzuki Wagon R FZ 2017 for sale.jpg\""
      ]
     },
     "execution_count": 43,
     "metadata": {},
     "output_type": "execute_result"
    }
   ],
   "source": [
    "string"
   ]
  },
  {
   "cell_type": "code",
   "execution_count": 53,
   "metadata": {},
   "outputs": [
    {
     "ename": "ValueError",
     "evalue": "cannot reshape array of size 15194 into shape (100,75)",
     "output_type": "error",
     "traceback": [
      "\u001b[1;31m---------------------------------------------------------------------------\u001b[0m",
      "\u001b[1;31mValueError\u001b[0m                                Traceback (most recent call last)",
      "\u001b[1;32m<ipython-input-53-a2cee656c241>\u001b[0m in \u001b[0;36m<module>\u001b[1;34m\u001b[0m\n\u001b[0;32m      1\u001b[0m \u001b[0mA\u001b[0m \u001b[1;33m=\u001b[0m \u001b[0mrgb2gray\u001b[0m\u001b[1;33m(\u001b[0m\u001b[0mnp\u001b[0m\u001b[1;33m.\u001b[0m\u001b[0marray\u001b[0m\u001b[1;33m(\u001b[0m\u001b[0mImage\u001b[0m\u001b[1;33m.\u001b[0m\u001b[0mopen\u001b[0m\u001b[1;33m(\u001b[0m\u001b[0mstring\u001b[0m\u001b[1;33m)\u001b[0m\u001b[1;33m)\u001b[0m\u001b[1;33m)\u001b[0m\u001b[1;33m\u001b[0m\u001b[1;33m\u001b[0m\u001b[0m\n\u001b[0;32m      2\u001b[0m \u001b[0mnp\u001b[0m\u001b[1;33m.\u001b[0m\u001b[0mshape\u001b[0m\u001b[1;33m(\u001b[0m\u001b[0mA\u001b[0m\u001b[1;33m)\u001b[0m\u001b[1;33m\u001b[0m\u001b[1;33m\u001b[0m\u001b[0m\n\u001b[1;32m----> 3\u001b[1;33m \u001b[0mA\u001b[0m\u001b[1;33m.\u001b[0m\u001b[0mreshape\u001b[0m\u001b[1;33m(\u001b[0m\u001b[1;33m(\u001b[0m\u001b[1;36m100\u001b[0m\u001b[1;33m,\u001b[0m\u001b[1;36m75\u001b[0m\u001b[1;33m)\u001b[0m\u001b[1;33m)\u001b[0m\u001b[1;33m\u001b[0m\u001b[1;33m\u001b[0m\u001b[0m\n\u001b[0m",
      "\u001b[1;31mValueError\u001b[0m: cannot reshape array of size 15194 into shape (100,75)"
     ]
    }
   ],
   "source": [
    "A = rgb2gray(np.array(Image.open(string)))\n",
    "np.shape(A)\n",
    "A.reshape((100,75))"
   ]
  },
  {
   "cell_type": "code",
   "execution_count": 56,
   "metadata": {},
   "outputs": [
    {
     "name": "stdout",
     "output_type": "stream",
     "text": [
      "(75, 100)\n",
      "[[0.71607059]\n",
      " [0.80486784]\n",
      " [0.81128941]\n",
      " ...\n",
      " [0.41195725]\n",
      " [0.39234941]\n",
      " [0.37609765]]\n"
     ]
    },
    {
     "data": {
      "image/png": "[encoded data removed]",
      "text/plain": [
       "<Figure size 432x288 with 1 Axes>"
      ]
     },
     "metadata": {
      "needs_background": "light"
     },
     "output_type": "display_data"
    }
   ],
   "source": [
    "img2 = rgb2gray(np.array(Image.open(string).resize((100,75))))\n",
    "plt.imshow(img2, cmap = \"gray\")\n",
    "print(np.shape(img2))\n",
    "print(np.asarray(img2).reshape(7500,1))"
   ]
  },
  {
   "cell_type": "code",
   "execution_count": 63,
   "metadata": {},
   "outputs": [],
   "source": [
    "#create function to resize images to smallest dimension in dataset:\n",
    "def img_resize(img_df, img_loc, dims = (100,75), path = \"C:/Users/Workman/Documents/STA142A_W22/vehicle_images/\"):\n",
    "    #create image path and open image:\n",
    "    string = str(path) + img_df.iat[img_loc[0], img_loc[1]]\n",
    "    try:\n",
    "        img = rgb2gray(np.array(Image.open(string).resize(dims)))\n",
    "        #convert image to numpy vector:\n",
    "        img_vec = np.array(img).reshape(7500,1)\n",
    "        return img_vec\n",
    "    except:\n",
    "        pass\n",
    "    \n",
    "# np.array(Image.open(string).resize((100,75)))"
   ]
  },
  {
   "cell_type": "code",
   "execution_count": 65,
   "metadata": {},
   "outputs": [],
   "source": [
    "#resize images so that they are the same size:\n",
    "img_vec = [(img_resize(imgs, (i,0))) for i in range(0,len(imgs))]"
   ]
  },
  {
   "cell_type": "code",
   "execution_count": 15,
   "metadata": {},
   "outputs": [
    {
     "data": {
      "text/plain": [
       "array([[0.71718667],\n",
       "       [0.80401176],\n",
       "       [0.81157216],\n",
       "       ...,\n",
       "       [0.41476275],\n",
       "       [0.39123333],\n",
       "       [0.37498157]])"
      ]
     },
     "execution_count": 15,
     "metadata": {},
     "output_type": "execute_result"
    }
   ],
   "source": [
    "#verify that this vector corresponds to the one printed earlier:\n",
    "(img_vec[10199])"
   ]
  },
  {
   "cell_type": "code",
   "execution_count": 16,
   "metadata": {},
   "outputs": [],
   "source": [
    "#extract arrays from list of arrays:\n",
    "imgs_concat = [img_vec[i] for i in range(0,len(img_vec))]"
   ]
  },
  {
   "cell_type": "code",
   "execution_count": 17,
   "metadata": {},
   "outputs": [],
   "source": [
    "#concatenate all image vectors into one matrix:\n",
    "img_array = np.stack(imgs_concat, axis = 0)"
   ]
  },
  {
   "cell_type": "code",
   "execution_count": 18,
   "metadata": {},
   "outputs": [
    {
     "data": {
      "text/plain": [
       "(25231, 7500, 1)"
      ]
     },
     "execution_count": 18,
     "metadata": {},
     "output_type": "execute_result"
    }
   ],
   "source": [
    "#get dims of data matrix:\n",
    "np.shape(img_array)"
   ]
  },
  {
   "cell_type": "code",
   "execution_count": 19,
   "metadata": {},
   "outputs": [],
   "source": [
    "#convert from 3d array to 2d array:\n",
    "img_array = img_array.reshape(25231,(7500*1))"
   ]
  },
  {
   "cell_type": "code",
   "execution_count": 20,
   "metadata": {},
   "outputs": [
    {
     "name": "stdout",
     "output_type": "stream",
     "text": [
      "(25231, 7500)\n"
     ]
    }
   ],
   "source": [
    "#verify matrix dims:\n",
    "print(np.shape(img_array))\n"
   ]
  },
  {
   "cell_type": "code",
   "execution_count": 21,
   "metadata": {},
   "outputs": [],
   "source": [
    "#change datatype to reduce stroage space:\n",
    "img_array = img_array.astype(\"float32\")"
   ]
  },
  {
   "cell_type": "code",
   "execution_count": 22,
   "metadata": {},
   "outputs": [],
   "source": [
    "#Turn array into npz file:\n",
    "savez_compressed(\"img_array.npz\", img_array)\n"
   ]
  },
  {
   "cell_type": "code",
   "execution_count": 23,
   "metadata": {},
   "outputs": [],
   "source": [
    "#load in data matrix:\n",
    "dat = np.load(\"C:/Users/Workman/Documents/STA142A_W22/img_array.npz\")\n",
    "\n",
    "#extract data matrix from npz file:\n",
    "dat = dat[\"arr_0\"].T"
   ]
  },
  {
   "cell_type": "code",
   "execution_count": 24,
   "metadata": {},
   "outputs": [
    {
     "name": "stdout",
     "output_type": "stream",
     "text": [
      "(7500, 25231)\n"
     ]
    }
   ],
   "source": [
    "print(np.shape(dat))"
   ]
  },
  {
   "cell_type": "markdown",
   "metadata": {},
   "source": [
    "# Part 1: PCA:"
   ]
  },
  {
   "cell_type": "markdown",
   "metadata": {},
   "source": [
    "First, we compute the principal component vectors for our dataset, and determine how many to use."
   ]
  },
  {
   "cell_type": "code",
   "execution_count": 25,
   "metadata": {},
   "outputs": [
    {
     "name": "stdout",
     "output_type": "stream",
     "text": [
      "1\n",
      "2\n"
     ]
    }
   ],
   "source": [
    "#subtract column means from respective columns:\n",
    "dat_mean = dat - np.mean(dat, axis = 0)\n",
    "dat_mean = dat_mean\n",
    "print(1)\n",
    "#calculate covariance matrix of meaned data:\n",
    "cov_mat = np.cov(dat_mean, rowvar = False)\n",
    "print(2)\n",
    "#compute eigenvalues and eigenvectors of covariance matrix:\n",
    "evals, evecs = sp.linalg.eigh(cov_mat)\n",
    "print(3)\n",
    "#order the eigenvalues/vectors in descending order:\n",
    "index = np.argsort(evals)[::-1]\n",
    "print(4)\n",
    "evals_sort = evals[index]\n",
    "print(5)\n",
    "evecs_sort = evecs[:,index]"
   ]
  },
  {
   "cell_type": "markdown",
   "metadata": {},
   "source": [
    "Next, we determine the optimal amount of principal components to use for the data. We will do this by calculating the percentage of variance in the data that is explained by each principal component, by using the following formula:\n",
    "\n",
    "$$\\frac{\\lambda_i}{\\lambda_1 + \\lambda_2 + ... + \\lambda_n}$$"
   ]
  },
  {
   "cell_type": "code",
   "execution_count": null,
   "metadata": {},
   "outputs": [],
   "source": [
    "#calculate variation accounted for by each principal component:\n",
    "var_func = lambda x: x/np.sum(evals_sort)\n",
    "var_explained = [var_func(evals_sort) for i in evals_sort]\n"
   ]
  },
  {
   "cell_type": "code",
   "execution_count": null,
   "metadata": {},
   "outputs": [
    {
     "name": "stdout",
     "output_type": "stream",
     "text": [
      "(25231, 25231)\n"
     ]
    }
   ],
   "source": [
    "print(np.shape(var_explained))"
   ]
  },
  {
   "cell_type": "code",
   "execution_count": null,
   "metadata": {},
   "outputs": [
    {
     "name": "stdout",
     "output_type": "stream",
     "text": [
      "(25231,)\n"
     ]
    }
   ],
   "source": [
    "var_explained = np.cumsum(var_explained[0])\n",
    "print(np.shape(var_explained))"
   ]
  },
  {
   "cell_type": "code",
   "execution_count": null,
   "metadata": {},
   "outputs": [
    {
     "data": {
      "text/html": [
       "<div>\n",
       "<style scoped>\n",
       "    .dataframe tbody tr th:only-of-type {\n",
       "        vertical-align: middle;\n",
       "    }\n",
       "\n",
       "    .dataframe tbody tr th {\n",
       "        vertical-align: top;\n",
       "    }\n",
       "\n",
       "    .dataframe thead th {\n",
       "        text-align: right;\n",
       "    }\n",
       "</style>\n",
       "<table border=\"1\" class=\"dataframe\">\n",
       "  <thead>\n",
       "    <tr style=\"text-align: right;\">\n",
       "      <th></th>\n",
       "      <th>var</th>\n",
       "      <th>num_components</th>\n",
       "    </tr>\n",
       "  </thead>\n",
       "  <tbody>\n",
       "    <tr>\n",
       "      <th>0</th>\n",
       "      <td>-6.777892e-312</td>\n",
       "      <td>1</td>\n",
       "    </tr>\n",
       "    <tr>\n",
       "      <th>1</th>\n",
       "      <td>-1.355505e-311</td>\n",
       "      <td>2</td>\n",
       "    </tr>\n",
       "    <tr>\n",
       "      <th>2</th>\n",
       "      <td>-1.355505e-311</td>\n",
       "      <td>3</td>\n",
       "    </tr>\n",
       "    <tr>\n",
       "      <th>3</th>\n",
       "      <td>-1.355505e-311</td>\n",
       "      <td>4</td>\n",
       "    </tr>\n",
       "    <tr>\n",
       "      <th>4</th>\n",
       "      <td>-1.355505e-311</td>\n",
       "      <td>5</td>\n",
       "    </tr>\n",
       "  </tbody>\n",
       "</table>\n",
       "</div>"
      ],
      "text/plain": [
       "             var  num_components\n",
       "0 -6.777892e-312               1\n",
       "1 -1.355505e-311               2\n",
       "2 -1.355505e-311               3\n",
       "3 -1.355505e-311               4\n",
       "4 -1.355505e-311               5"
      ]
     },
     "execution_count": 79,
     "metadata": {},
     "output_type": "execute_result"
    }
   ],
   "source": [
    "plot_df = pd.DataFrame(data = {\n",
    "    \"var\":var_explained,\n",
    "    \"num_components\": list(range(1,len(var_explained)+1))\n",
    "})\n",
    "\n",
    "plot_df.head()"
   ]
  },
  {
   "cell_type": "code",
   "execution_count": null,
   "metadata": {},
   "outputs": [
    {
     "name": "stderr",
     "output_type": "stream",
     "text": [
      "C:\\Users\\Wyatt\\AppData\\Local\\Programs\\Python\\Python39\\lib\\site-packages\\mizani\\bounds.py:456: RuntimeWarning: overflow encountered in double_scalars\n",
      "C:\\Users\\Wyatt\\AppData\\Local\\Programs\\Python\\Python39\\lib\\site-packages\\plotnine\\geoms\\geom_path.py:75: PlotnineWarning: geom_path: Removed 22731 rows containing missing values.\n"
     ]
    },
    {
     "data": {
      "image/png": "[encoded data removed]",
      "text/plain": [
       "<Figure size 640x480 with 1 Axes>"
      ]
     },
     "metadata": {},
     "output_type": "display_data"
    },
    {
     "data": {
      "text/plain": [
       "<ggplot: (123502584426)>"
      ]
     },
     "execution_count": 80,
     "metadata": {},
     "output_type": "execute_result"
    }
   ],
   "source": [
    "#create plot:\n",
    "var_plot = p9.ggplot(data = plot_df)\n",
    "var_plot += p9.aes(x = \"num_components\", y = \"var\")\n",
    "var_plot += p9.geom_line()\n",
    "var_plot += p9.xlim(0,2500)\n",
    "\n",
    "var_plot"
   ]
  }
 ],
 "metadata": {
  "interpreter": {
   "hash": "0d1572b24cebab15a5e067a3c9126555a08a757badce4d8bf9b99662bf38ab5c"
  },
  "kernelspec": {
   "display_name": "Python 3",
   "language": "python",
   "name": "python3"
  },
  "language_info": {
   "codemirror_mode": {
    "name": "ipython",
    "version": 3
   },
   "file_extension": ".py",
   "mimetype": "text/x-python",
   "name": "python",
   "nbconvert_exporter": "python",
   "pygments_lexer": "ipython3",
   "version": "3.8.8"
  }
 },
 "nbformat": 4,
 "nbformat_minor": 2
}
