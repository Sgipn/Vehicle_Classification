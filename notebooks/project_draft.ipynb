{
 "cells": [
  {
   "cell_type": "markdown",
   "metadata": {},
   "source": []
  },
  {
   "cell_type": "code",
   "execution_count": 1,
   "metadata": {},
   "outputs": [],
   "source": [
    "#import libraries:\n",
    "import pandas as pd\n",
    "import numpy as np\n",
    "import scipy as sp\n",
    "from matplotlib.image import imread \n",
    "import matplotlib.pyplot as plt\n",
    "import matplotlib.image as mpimg\n",
    "from skimage.color import rgb2gray\n",
    "from PIL import Image\n",
    "from skimage import io\n",
    "from numpy import *\n",
    "import plotnine as p9\n",
    "from tensorflow.linalg import eigh"
   ]
  },
  {
   "cell_type": "code",
   "execution_count": 2,
   "metadata": {},
   "outputs": [
    {
     "name": "stderr",
     "output_type": "stream",
     "text": [
      "C:\\Users\\kxu97\\anaconda3\\lib\\site-packages\\IPython\\core\\interactiveshell.py:3165: DtypeWarning: Columns (3) have mixed types.Specify dtype option on import or set low_memory=False.\n"
     ]
    },
    {
     "data": {
      "text/html": [
       "<div>\n",
       "<style scoped>\n",
       "    .dataframe tbody tr th:only-of-type {\n",
       "        vertical-align: middle;\n",
       "    }\n",
       "\n",
       "    .dataframe tbody tr th {\n",
       "        vertical-align: top;\n",
       "    }\n",
       "\n",
       "    .dataframe thead th {\n",
       "        text-align: right;\n",
       "    }\n",
       "</style>\n",
       "<table border=\"1\" class=\"dataframe\">\n",
       "  <thead>\n",
       "    <tr style=\"text-align: right;\">\n",
       "      <th></th>\n",
       "      <th>Image_Path</th>\n",
       "      <th>Brand</th>\n",
       "      <th>Model</th>\n",
       "      <th>Edition</th>\n",
       "      <th>Year</th>\n",
       "      <th>Condition</th>\n",
       "      <th>Transmission</th>\n",
       "      <th>Body</th>\n",
       "      <th>Fuel</th>\n",
       "      <th>Capacity</th>\n",
       "    </tr>\n",
       "  </thead>\n",
       "  <tbody>\n",
       "    <tr>\n",
       "      <th>0</th>\n",
       "      <td>vehicle_images/1633889154186_Toyota Hilux 2006...</td>\n",
       "      <td>Toyota</td>\n",
       "      <td>Hilux</td>\n",
       "      <td>Hilux</td>\n",
       "      <td>2006</td>\n",
       "      <td>Used</td>\n",
       "      <td>Manual</td>\n",
       "      <td>SUV / 4x4</td>\n",
       "      <td>Diesel</td>\n",
       "      <td>2,500 cc</td>\n",
       "    </tr>\n",
       "    <tr>\n",
       "      <th>1</th>\n",
       "      <td>vehicle_images/1633889154395_Land Rover Freela...</td>\n",
       "      <td>Land Rover</td>\n",
       "      <td>Freelander</td>\n",
       "      <td>1999</td>\n",
       "      <td>1999</td>\n",
       "      <td>Used</td>\n",
       "      <td>Manual</td>\n",
       "      <td>SUV / 4x4</td>\n",
       "      <td>Diesel</td>\n",
       "      <td>1,990 cc</td>\n",
       "    </tr>\n",
       "    <tr>\n",
       "      <th>2</th>\n",
       "      <td>vehicle_images/1633889154545_Nissan Leaf G Gra...</td>\n",
       "      <td>Nissan</td>\n",
       "      <td>Leaf</td>\n",
       "      <td>G Grade</td>\n",
       "      <td>2014</td>\n",
       "      <td>Used</td>\n",
       "      <td>Automatic</td>\n",
       "      <td>Hatchback</td>\n",
       "      <td>Electric</td>\n",
       "      <td>70 cc</td>\n",
       "    </tr>\n",
       "    <tr>\n",
       "      <th>3</th>\n",
       "      <td>vehicle_images/1633889154697_Mercedes Benz C20...</td>\n",
       "      <td>Mercedes Benz</td>\n",
       "      <td>C200</td>\n",
       "      <td>C-Cabriolet AMG Line</td>\n",
       "      <td>2016</td>\n",
       "      <td>Used</td>\n",
       "      <td>Automatic</td>\n",
       "      <td>Convertible</td>\n",
       "      <td>Petrol</td>\n",
       "      <td>2,000 cc</td>\n",
       "    </tr>\n",
       "    <tr>\n",
       "      <th>4</th>\n",
       "      <td>vehicle_images/1633889154870_Toyota Vitz 2018 ...</td>\n",
       "      <td>Toyota</td>\n",
       "      <td>Vitz</td>\n",
       "      <td>2018</td>\n",
       "      <td>2018</td>\n",
       "      <td>Used</td>\n",
       "      <td>Automatic</td>\n",
       "      <td>Hatchback</td>\n",
       "      <td>Petrol</td>\n",
       "      <td>1,000 cc</td>\n",
       "    </tr>\n",
       "  </tbody>\n",
       "</table>\n",
       "</div>"
      ],
      "text/plain": [
       "                                          Image_Path          Brand  \\\n",
       "0  vehicle_images/1633889154186_Toyota Hilux 2006...         Toyota   \n",
       "1  vehicle_images/1633889154395_Land Rover Freela...     Land Rover   \n",
       "2  vehicle_images/1633889154545_Nissan Leaf G Gra...         Nissan   \n",
       "3  vehicle_images/1633889154697_Mercedes Benz C20...  Mercedes Benz   \n",
       "4  vehicle_images/1633889154870_Toyota Vitz 2018 ...         Toyota   \n",
       "\n",
       "        Model               Edition  Year Condition Transmission         Body  \\\n",
       "0       Hilux                 Hilux  2006      Used       Manual    SUV / 4x4   \n",
       "1  Freelander                  1999  1999      Used       Manual    SUV / 4x4   \n",
       "2        Leaf               G Grade  2014      Used    Automatic    Hatchback   \n",
       "3        C200  C-Cabriolet AMG Line  2016      Used    Automatic  Convertible   \n",
       "4        Vitz                  2018  2018      Used    Automatic    Hatchback   \n",
       "\n",
       "       Fuel  Capacity  \n",
       "0    Diesel  2,500 cc  \n",
       "1    Diesel  1,990 cc  \n",
       "2  Electric     70 cc  \n",
       "3    Petrol  2,000 cc  \n",
       "4    Petrol  1,000 cc  "
      ]
     },
     "execution_count": 2,
     "metadata": {},
     "output_type": "execute_result"
    }
   ],
   "source": [
    "#read in image CSV file:\n",
    "imgs = pd.read_csv(\"../data/vehcle_img_data.csv\")\n",
    "imgs.head()\n"
   ]
  },
  {
   "cell_type": "markdown",
   "metadata": {},
   "source": [
    "For the scope of this project, we will only consider 5 different classes."
   ]
  },
  {
   "cell_type": "code",
   "execution_count": 3,
   "metadata": {},
   "outputs": [
    {
     "data": {
      "text/html": [
       "<div>\n",
       "<style scoped>\n",
       "    .dataframe tbody tr th:only-of-type {\n",
       "        vertical-align: middle;\n",
       "    }\n",
       "\n",
       "    .dataframe tbody tr th {\n",
       "        vertical-align: top;\n",
       "    }\n",
       "\n",
       "    .dataframe thead th {\n",
       "        text-align: right;\n",
       "    }\n",
       "</style>\n",
       "<table border=\"1\" class=\"dataframe\">\n",
       "  <thead>\n",
       "    <tr style=\"text-align: right;\">\n",
       "      <th></th>\n",
       "      <th>Image_Path</th>\n",
       "      <th>Brand</th>\n",
       "      <th>Model</th>\n",
       "      <th>Edition</th>\n",
       "      <th>Year</th>\n",
       "      <th>Condition</th>\n",
       "      <th>Transmission</th>\n",
       "      <th>Body</th>\n",
       "      <th>Fuel</th>\n",
       "      <th>Capacity</th>\n",
       "    </tr>\n",
       "  </thead>\n",
       "  <tbody>\n",
       "    <tr>\n",
       "      <th>0</th>\n",
       "      <td>vehicle_images/1633889154186_Toyota Hilux 2006...</td>\n",
       "      <td>Toyota</td>\n",
       "      <td>Hilux</td>\n",
       "      <td>Hilux</td>\n",
       "      <td>2006</td>\n",
       "      <td>Used</td>\n",
       "      <td>Manual</td>\n",
       "      <td>14</td>\n",
       "      <td>Diesel</td>\n",
       "      <td>2,500 cc</td>\n",
       "    </tr>\n",
       "    <tr>\n",
       "      <th>1</th>\n",
       "      <td>vehicle_images/1633889154395_Land Rover Freela...</td>\n",
       "      <td>Land Rover</td>\n",
       "      <td>Freelander</td>\n",
       "      <td>1999</td>\n",
       "      <td>1999</td>\n",
       "      <td>Used</td>\n",
       "      <td>Manual</td>\n",
       "      <td>14</td>\n",
       "      <td>Diesel</td>\n",
       "      <td>1,990 cc</td>\n",
       "    </tr>\n",
       "    <tr>\n",
       "      <th>2</th>\n",
       "      <td>vehicle_images/1633889154545_Nissan Leaf G Gra...</td>\n",
       "      <td>Nissan</td>\n",
       "      <td>Leaf</td>\n",
       "      <td>G Grade</td>\n",
       "      <td>2014</td>\n",
       "      <td>Used</td>\n",
       "      <td>Automatic</td>\n",
       "      <td>6</td>\n",
       "      <td>Electric</td>\n",
       "      <td>70 cc</td>\n",
       "    </tr>\n",
       "    <tr>\n",
       "      <th>3</th>\n",
       "      <td>vehicle_images/1633889154697_Mercedes Benz C20...</td>\n",
       "      <td>Mercedes Benz</td>\n",
       "      <td>C200</td>\n",
       "      <td>C-Cabriolet AMG Line</td>\n",
       "      <td>2016</td>\n",
       "      <td>Used</td>\n",
       "      <td>Automatic</td>\n",
       "      <td>4</td>\n",
       "      <td>Petrol</td>\n",
       "      <td>2,000 cc</td>\n",
       "    </tr>\n",
       "    <tr>\n",
       "      <th>4</th>\n",
       "      <td>vehicle_images/1633889154870_Toyota Vitz 2018 ...</td>\n",
       "      <td>Toyota</td>\n",
       "      <td>Vitz</td>\n",
       "      <td>2018</td>\n",
       "      <td>2018</td>\n",
       "      <td>Used</td>\n",
       "      <td>Automatic</td>\n",
       "      <td>6</td>\n",
       "      <td>Petrol</td>\n",
       "      <td>1,000 cc</td>\n",
       "    </tr>\n",
       "  </tbody>\n",
       "</table>\n",
       "</div>"
      ],
      "text/plain": [
       "                                          Image_Path          Brand  \\\n",
       "0  vehicle_images/1633889154186_Toyota Hilux 2006...         Toyota   \n",
       "1  vehicle_images/1633889154395_Land Rover Freela...     Land Rover   \n",
       "2  vehicle_images/1633889154545_Nissan Leaf G Gra...         Nissan   \n",
       "3  vehicle_images/1633889154697_Mercedes Benz C20...  Mercedes Benz   \n",
       "4  vehicle_images/1633889154870_Toyota Vitz 2018 ...         Toyota   \n",
       "\n",
       "        Model               Edition  Year Condition Transmission  Body  \\\n",
       "0       Hilux                 Hilux  2006      Used       Manual    14   \n",
       "1  Freelander                  1999  1999      Used       Manual    14   \n",
       "2        Leaf               G Grade  2014      Used    Automatic     6   \n",
       "3        C200  C-Cabriolet AMG Line  2016      Used    Automatic     4   \n",
       "4        Vitz                  2018  2018      Used    Automatic     6   \n",
       "\n",
       "       Fuel  Capacity  \n",
       "0    Diesel  2,500 cc  \n",
       "1    Diesel  1,990 cc  \n",
       "2  Electric     70 cc  \n",
       "3    Petrol  2,000 cc  \n",
       "4    Petrol  1,000 cc  "
      ]
     },
     "execution_count": 3,
     "metadata": {},
     "output_type": "execute_result"
    }
   ],
   "source": [
    "#encode the response variable:\n",
    "#ensure response column is of categorical datatype:\n",
    "imgs[\"Body\"] = imgs[\"Body\"].astype(\"category\").cat.codes\n",
    "\n",
    "#assign numerical labels:\n",
    "#imgs[\"Body\"] = imgs[\"Body\"].cat.codes\n",
    "#imgs = imgs[imgs[\"Body\"] <= 5]\n",
    "imgs.head()"
   ]
  },
  {
   "cell_type": "code",
   "execution_count": 4,
   "metadata": {},
   "outputs": [
    {
     "data": {
      "text/plain": [
       " 3     21984\n",
       " 10    15723\n",
       " 20     5595\n",
       " 6      5502\n",
       " 17     5099\n",
       " 15     4787\n",
       " 8      4248\n",
       " 13     3583\n",
       " 14     3282\n",
       " 12     1492\n",
       "-1      1224\n",
       " 19     1076\n",
       " 1      1070\n",
       " 18      779\n",
       " 0       617\n",
       " 16      584\n",
       " 21      513\n",
       " 7       351\n",
       " 2       158\n",
       " 9       149\n",
       " 5       111\n",
       " 4        50\n",
       " 11        3\n",
       "Name: Body, dtype: int64"
      ]
     },
     "execution_count": 4,
     "metadata": {},
     "output_type": "execute_result"
    }
   ],
   "source": [
    "imgs[\"Body\"].value_counts()"
   ]
  },
  {
   "cell_type": "markdown",
   "metadata": {},
   "source": [
    "To avoid class imbalance and skewness, we will pick classes with similar number of images belonging to them."
   ]
  },
  {
   "cell_type": "code",
   "execution_count": 5,
   "metadata": {},
   "outputs": [
    {
     "data": {
      "text/html": [
       "<div>\n",
       "<style scoped>\n",
       "    .dataframe tbody tr th:only-of-type {\n",
       "        vertical-align: middle;\n",
       "    }\n",
       "\n",
       "    .dataframe tbody tr th {\n",
       "        vertical-align: top;\n",
       "    }\n",
       "\n",
       "    .dataframe thead th {\n",
       "        text-align: right;\n",
       "    }\n",
       "</style>\n",
       "<table border=\"1\" class=\"dataframe\">\n",
       "  <thead>\n",
       "    <tr style=\"text-align: right;\">\n",
       "      <th></th>\n",
       "      <th>Image_Path</th>\n",
       "      <th>Brand</th>\n",
       "      <th>Model</th>\n",
       "      <th>Edition</th>\n",
       "      <th>Year</th>\n",
       "      <th>Condition</th>\n",
       "      <th>Transmission</th>\n",
       "      <th>Body</th>\n",
       "      <th>Fuel</th>\n",
       "      <th>Capacity</th>\n",
       "    </tr>\n",
       "  </thead>\n",
       "  <tbody>\n",
       "    <tr>\n",
       "      <th>2</th>\n",
       "      <td>vehicle_images/1633889154545_Nissan Leaf G Gra...</td>\n",
       "      <td>Nissan</td>\n",
       "      <td>Leaf</td>\n",
       "      <td>G Grade</td>\n",
       "      <td>2014</td>\n",
       "      <td>Used</td>\n",
       "      <td>Automatic</td>\n",
       "      <td>6</td>\n",
       "      <td>Electric</td>\n",
       "      <td>70 cc</td>\n",
       "    </tr>\n",
       "    <tr>\n",
       "      <th>4</th>\n",
       "      <td>vehicle_images/1633889154870_Toyota Vitz 2018 ...</td>\n",
       "      <td>Toyota</td>\n",
       "      <td>Vitz</td>\n",
       "      <td>2018</td>\n",
       "      <td>2018</td>\n",
       "      <td>Used</td>\n",
       "      <td>Automatic</td>\n",
       "      <td>6</td>\n",
       "      <td>Petrol</td>\n",
       "      <td>1,000 cc</td>\n",
       "    </tr>\n",
       "    <tr>\n",
       "      <th>5</th>\n",
       "      <td>vehicle_images/1633889155051_Toyota Starlet EP...</td>\n",
       "      <td>Toyota</td>\n",
       "      <td>Starlet</td>\n",
       "      <td>EP71</td>\n",
       "      <td>1990</td>\n",
       "      <td>Used</td>\n",
       "      <td>Manual</td>\n",
       "      <td>6</td>\n",
       "      <td>Petrol</td>\n",
       "      <td>1,300 cc</td>\n",
       "    </tr>\n",
       "    <tr>\n",
       "      <th>6</th>\n",
       "      <td>vehicle_images/1633889155191_Toyota Aqua S 201...</td>\n",
       "      <td>Toyota</td>\n",
       "      <td>Aqua</td>\n",
       "      <td>S</td>\n",
       "      <td>2014</td>\n",
       "      <td>Used</td>\n",
       "      <td>Automatic</td>\n",
       "      <td>6</td>\n",
       "      <td>Hybrid</td>\n",
       "      <td>1,500 cc</td>\n",
       "    </tr>\n",
       "    <tr>\n",
       "      <th>8</th>\n",
       "      <td>vehicle_images/1633889155496_Toyota Axio editi...</td>\n",
       "      <td>Toyota</td>\n",
       "      <td>Axio</td>\n",
       "      <td>edition</td>\n",
       "      <td>2015</td>\n",
       "      <td>Used</td>\n",
       "      <td>Automatic</td>\n",
       "      <td>15</td>\n",
       "      <td>Petrol</td>\n",
       "      <td>1,500 cc</td>\n",
       "    </tr>\n",
       "  </tbody>\n",
       "</table>\n",
       "</div>"
      ],
      "text/plain": [
       "                                          Image_Path   Brand    Model  \\\n",
       "2  vehicle_images/1633889154545_Nissan Leaf G Gra...  Nissan     Leaf   \n",
       "4  vehicle_images/1633889154870_Toyota Vitz 2018 ...  Toyota     Vitz   \n",
       "5  vehicle_images/1633889155051_Toyota Starlet EP...  Toyota  Starlet   \n",
       "6  vehicle_images/1633889155191_Toyota Aqua S 201...  Toyota     Aqua   \n",
       "8  vehicle_images/1633889155496_Toyota Axio editi...  Toyota     Axio   \n",
       "\n",
       "   Edition  Year Condition Transmission  Body      Fuel  Capacity  \n",
       "2  G Grade  2014      Used    Automatic     6  Electric     70 cc  \n",
       "4     2018  2018      Used    Automatic     6    Petrol  1,000 cc  \n",
       "5     EP71  1990      Used       Manual     6    Petrol  1,300 cc  \n",
       "6        S  2014      Used    Automatic     6    Hybrid  1,500 cc  \n",
       "8  edition  2015      Used    Automatic    15    Petrol  1,500 cc  "
      ]
     },
     "execution_count": 5,
     "metadata": {},
     "output_type": "execute_result"
    }
   ],
   "source": [
    "imgs = imgs[imgs[\"Body\"].isin([20,6,17,15,8])]\n",
    "imgs.head()"
   ]
  },
  {
   "cell_type": "code",
   "execution_count": 6,
   "metadata": {},
   "outputs": [],
   "source": [
    "#create response vector:\n",
    "response = imgs[\"Body\"].to_numpy()"
   ]
  },
  {
   "cell_type": "code",
   "execution_count": 7,
   "metadata": {},
   "outputs": [
    {
     "data": {
      "text/plain": [
       "25231"
      ]
     },
     "execution_count": 7,
     "metadata": {},
     "output_type": "execute_result"
    }
   ],
   "source": [
    "len(imgs)"
   ]
  },
  {
   "cell_type": "code",
   "execution_count": 8,
   "metadata": {},
   "outputs": [
    {
     "data": {
      "text/plain": [
       "25231"
      ]
     },
     "execution_count": 8,
     "metadata": {},
     "output_type": "execute_result"
    }
   ],
   "source": [
    "len(response)"
   ]
  },
  {
   "cell_type": "code",
   "execution_count": 9,
   "metadata": {},
   "outputs": [
    {
     "name": "stdout",
     "output_type": "stream",
     "text": [
      "25231\n"
     ]
    }
   ],
   "source": [
    "#extract rows where image_path is not blank:\n",
    "#replace blanks in image path col with NA:\n",
    "imgs[\"Image_Path\"].replace('', np.nan, inplace=True)\n",
    "\n",
    "#keep rows without NA in the image path column:\n",
    "imgs = imgs[imgs[\"Image_Path\"].notna()]\n",
    "print(len(imgs))"
   ]
  },
  {
   "cell_type": "code",
   "execution_count": 10,
   "metadata": {},
   "outputs": [
    {
     "name": "stdout",
     "output_type": "stream",
     "text": [
      "vehicle_images/1635928138821_Toyota Vitz KSP90 2007 for sale.jpg\n"
     ]
    }
   ],
   "source": [
    "#load an image:\n",
    "print(imgs.iat[10200,0])\n",
    "string = \"../data/\" + imgs.iat[10199,0]\n",
    "img = rgb2gray(np.array(Image.open(string)))"
   ]
  },
  {
   "cell_type": "code",
   "execution_count": 11,
   "metadata": {},
   "outputs": [
    {
     "name": "stdout",
     "output_type": "stream",
     "text": [
      "(107, 142)\n"
     ]
    },
    {
     "data": {
      "image/png": "[encoded data removed]",
      "text/plain": [
       "<Figure size 432x288 with 1 Axes>"
      ]
     },
     "metadata": {
      "needs_background": "light"
     },
     "output_type": "display_data"
    }
   ],
   "source": [
    "plt.imshow(img, cmap = \"gray\" )\n",
    "print(np.shape(img))"
   ]
  },
  {
   "cell_type": "code",
   "execution_count": 12,
   "metadata": {},
   "outputs": [
    {
     "name": "stdout",
     "output_type": "stream",
     "text": [
      "(75, 100)\n",
      "[[0.71607059]\n",
      " [0.80486784]\n",
      " [0.81128941]\n",
      " ...\n",
      " [0.41195725]\n",
      " [0.39234941]\n",
      " [0.37609765]]\n"
     ]
    },
    {
     "data": {
      "image/png": "[encoded data removed]",
      "text/plain": [
       "<Figure size 432x288 with 1 Axes>"
      ]
     },
     "metadata": {
      "needs_background": "light"
     },
     "output_type": "display_data"
    }
   ],
   "source": [
    "img2 = rgb2gray(np.array(Image.open(string).resize((100,75)))) # reshaping dimensions to smallest image size: 100x75\n",
    "plt.imshow(img2, cmap = \"gray\")\n",
    "print(np.shape(img2))\n",
    "print(np.asarray(img2).reshape(7500,1))"
   ]
  },
  {
   "cell_type": "code",
   "execution_count": 13,
   "metadata": {},
   "outputs": [],
   "source": [
    "#create function to resize images to smallest dimension in dataset:\n",
    "def img_resize(img_df, img_loc, dims = (100,75)):\n",
    "    #create image path and open image:\n",
    "    string = \"../data/\" + img_df.iat[img_loc]\n",
    "    try:\n",
    "        img = rgb2gray(np.array(Image.open(string).resize(dims)))\n",
    "        #convert image to numpy vector:\n",
    "        img_vec = img.reshape(7500,1)\n",
    "        return img_vec\n",
    "    except:\n",
    "        pass"
   ]
  },
  {
   "cell_type": "code",
   "execution_count": 14,
   "metadata": {},
   "outputs": [],
   "source": [
    "#resize images so that they are the same size:\n",
    "img_vec = [(img_resize(imgs, (i,0))) for i in range(0,len(imgs))]"
   ]
  },
  {
   "cell_type": "code",
   "execution_count": 15,
   "metadata": {},
   "outputs": [
    {
     "data": {
      "text/plain": [
       "array([[0.71607059],\n",
       "       [0.80486784],\n",
       "       [0.81128941],\n",
       "       ...,\n",
       "       [0.41195725],\n",
       "       [0.39234941],\n",
       "       [0.37609765]])"
      ]
     },
     "execution_count": 15,
     "metadata": {},
     "output_type": "execute_result"
    }
   ],
   "source": [
    "#verify that this vector corresponds to the one printed earlier:\n",
    "(img_vec[10199])"
   ]
  },
  {
   "cell_type": "code",
   "execution_count": 16,
   "metadata": {},
   "outputs": [],
   "source": [
    "#extract arrays from list of arrays:\n",
    "imgs_concat = [img_vec[i] for i in range(len(img_vec))]"
   ]
  },
  {
   "cell_type": "code",
   "execution_count": 17,
   "metadata": {},
   "outputs": [
    {
     "data": {
      "text/plain": [
       "(25231, 7500, 1)"
      ]
     },
     "execution_count": 17,
     "metadata": {},
     "output_type": "execute_result"
    }
   ],
   "source": [
    "np.shape(imgs_concat)"
   ]
  },
  {
   "cell_type": "code",
   "execution_count": 18,
   "metadata": {},
   "outputs": [],
   "source": [
    "#concatenate all image vectors into one matrix:\n",
    "img_array = np.stack(imgs_concat, axis = 0)"
   ]
  },
  {
   "cell_type": "code",
   "execution_count": 19,
   "metadata": {},
   "outputs": [
    {
     "data": {
      "text/plain": [
       "(25231, 7500, 1)"
      ]
     },
     "execution_count": 19,
     "metadata": {},
     "output_type": "execute_result"
    }
   ],
   "source": [
    "#get dims of data matrix:\n",
    "np.shape(img_array)"
   ]
  },
  {
   "cell_type": "code",
   "execution_count": 20,
   "metadata": {},
   "outputs": [],
   "source": [
    "#convert from 3d array to 2d array:\n",
    "img_array = img_array.reshape(25231,(7500*1))"
   ]
  },
  {
   "cell_type": "code",
   "execution_count": 21,
   "metadata": {},
   "outputs": [
    {
     "name": "stdout",
     "output_type": "stream",
     "text": [
      "(25231, 7500)\n"
     ]
    }
   ],
   "source": [
    "#verify matrix dims:\n",
    "print(np.shape(img_array))\n"
   ]
  },
  {
   "cell_type": "code",
   "execution_count": 22,
   "metadata": {},
   "outputs": [],
   "source": [
    "#change datatype to reduce stroage space:\n",
    "img_array = img_array.astype(\"float32\")"
   ]
  },
  {
   "cell_type": "code",
   "execution_count": 23,
   "metadata": {},
   "outputs": [],
   "source": [
    "#Turn array into npz file:\n",
    "savez_compressed(\"img_array.npz\", img_array)"
   ]
  },
  {
   "cell_type": "code",
   "execution_count": 24,
   "metadata": {},
   "outputs": [],
   "source": [
    "#load in data matrix:\n",
    "dat = np.load(\"img_array.npz\")\n",
    "\n",
    "#extract data matrix from npz file:\n",
    "dat = dat[\"arr_0\"]                        "
   ]
  },
  {
   "cell_type": "code",
   "execution_count": 25,
   "metadata": {},
   "outputs": [
    {
     "name": "stdout",
     "output_type": "stream",
     "text": [
      "(25231, 7500)\n"
     ]
    }
   ],
   "source": [
    "print(np.shape(dat))\n",
    "#convert datatype to float32:\n",
    "dat = dat.astype(\"float32\") # 25231 images, 7500 features"
   ]
  },
  {
   "cell_type": "markdown",
   "metadata": {},
   "source": [
    "# Part 1: PCA:"
   ]
  },
  {
   "cell_type": "markdown",
   "metadata": {},
   "source": [
    "First, we compute the principal component vectors for our dataset, and determine how many to use.\n",
    "\n",
    "We will apply eigendecomposition to the original dataset to achieve 7500 e-vec/eval pairs. They will be ordered by proportion of explained variance in descending order. We will select the first k eigenvectors that explain ~80% of the total variance in the dataset."
   ]
  },
  {
   "cell_type": "code",
   "execution_count": 26,
   "metadata": {},
   "outputs": [
    {
     "data": {
      "text/plain": [
       "True"
      ]
     },
     "execution_count": 26,
     "metadata": {},
     "output_type": "execute_result"
    }
   ],
   "source": [
    "#check if dat is symmetric:\n",
    "np.all(dat) == np.all(dat.T)"
   ]
  },
  {
   "cell_type": "code",
   "execution_count": 27,
   "metadata": {},
   "outputs": [
    {
     "name": "stdout",
     "output_type": "stream",
     "text": [
      "(7500, 7500)\n"
     ]
    }
   ],
   "source": [
    "#standardize each value by its column mean and column standard deviation:\n",
    "dat_standard = (dat - np.mean(dat, axis = 0))/np.std(dat,axis=0)\n",
    "#calculate covariance matrix of meaned data:\n",
    "cov_mat = np.cov(dat_standard, rowvar = False)\n",
    "print(np.shape(cov_mat))"
   ]
  },
  {
   "cell_type": "code",
   "execution_count": 28,
   "metadata": {},
   "outputs": [
    {
     "name": "stdout",
     "output_type": "stream",
     "text": [
      "3\n",
      "4\n",
      "5\n"
     ]
    }
   ],
   "source": [
    "# Compute eigenvalues and eigenvectors of covariance matrix:\n",
    "evals, evecs = np.linalg.eig(cov_mat) \n",
    "print(3)\n",
    "#order the eigenvalues/vectors in descending order:\n",
    "index = np.argsort(evals)[::-1]\n",
    "print(4)\n",
    "evals_sort = evals[index]\n",
    "print(5)\n",
    "evecs_sort = evecs[:,index]"
   ]
  },
  {
   "cell_type": "code",
   "execution_count": 29,
   "metadata": {},
   "outputs": [
    {
     "data": {
      "text/plain": [
       "array([9.14656744e+02, 6.36609182e+02, 5.08289961e+02, ...,\n",
       "       4.85558518e-03, 4.85105216e-03, 4.86557464e-03])"
      ]
     },
     "execution_count": 29,
     "metadata": {},
     "output_type": "execute_result"
    }
   ],
   "source": [
    "evals"
   ]
  },
  {
   "cell_type": "code",
   "execution_count": 30,
   "metadata": {},
   "outputs": [
    {
     "data": {
      "text/plain": [
       "(7500,)"
      ]
     },
     "execution_count": 30,
     "metadata": {},
     "output_type": "execute_result"
    }
   ],
   "source": [
    "np.shape(evals) "
   ]
  },
  {
   "cell_type": "code",
   "execution_count": 31,
   "metadata": {},
   "outputs": [
    {
     "data": {
      "text/plain": [
       "array([[ 0.01109357, -0.01244886, -0.0018065 , ..., -0.00101687,\n",
       "         0.00218906, -0.00108259],\n",
       "       [ 0.01121084, -0.01267738, -0.00199055, ...,  0.00247949,\n",
       "         0.00759517, -0.00021256],\n",
       "       [ 0.01122605, -0.01279889, -0.00218369, ..., -0.00457513,\n",
       "        -0.01715731,  0.00827884],\n",
       "       ...,\n",
       "       [ 0.01771023, -0.0053296 ,  0.01184525, ...,  0.01152135,\n",
       "        -0.02228501, -0.02313384],\n",
       "       [ 0.0175738 , -0.00547125,  0.01165353, ..., -0.00316375,\n",
       "        -0.0008929 ,  0.02039721],\n",
       "       [ 0.01747008, -0.00563832,  0.01142987, ...,  0.00148235,\n",
       "         0.01209367, -0.01196868]])"
      ]
     },
     "execution_count": 31,
     "metadata": {},
     "output_type": "execute_result"
    }
   ],
   "source": [
    "evecs"
   ]
  },
  {
   "cell_type": "code",
   "execution_count": 32,
   "metadata": {},
   "outputs": [
    {
     "data": {
      "text/plain": [
       "(7500, 7500)"
      ]
     },
     "execution_count": 32,
     "metadata": {},
     "output_type": "execute_result"
    }
   ],
   "source": [
    "np.shape(evecs) \n",
    "\n",
    "# 7500 components of each eigenvector. # 7500 total eigenvectors"
   ]
  },
  {
   "cell_type": "markdown",
   "metadata": {},
   "source": [
    "Next, we determine the optimal amount of principal components to use for the data. We will do this by calculating the percentage of variance in the data that is explained by each principal component. The proportion of total variance explained by the $i^{th}$ principal component is:\n",
    "\n",
    "$$\\frac{\\lambda_i}{\\lambda_1 + \\lambda_2 + ... + \\lambda_n}$$"
   ]
  },
  {
   "cell_type": "code",
   "execution_count": 33,
   "metadata": {},
   "outputs": [],
   "source": [
    "#calculate variation accounted for by each principal component:\n",
    "var_func = lambda x: x/np.sum(evals_sort)\n",
    "var_explained = [var_func(evals_sort) for i in evals_sort]"
   ]
  },
  {
   "cell_type": "code",
   "execution_count": 34,
   "metadata": {},
   "outputs": [
    {
     "name": "stdout",
     "output_type": "stream",
     "text": [
      "(7500, 7500)\n"
     ]
    }
   ],
   "source": [
    "print(np.shape(var_explained))"
   ]
  },
  {
   "cell_type": "code",
   "execution_count": 35,
   "metadata": {},
   "outputs": [
    {
     "name": "stdout",
     "output_type": "stream",
     "text": [
      "(7500,)\n"
     ]
    }
   ],
   "source": [
    "var_explained = np.cumsum(var_explained[0])\n",
    "print(np.shape(var_explained))"
   ]
  },
  {
   "cell_type": "code",
   "execution_count": 36,
   "metadata": {},
   "outputs": [
    {
     "data": {
      "text/html": [
       "<div>\n",
       "<style scoped>\n",
       "    .dataframe tbody tr th:only-of-type {\n",
       "        vertical-align: middle;\n",
       "    }\n",
       "\n",
       "    .dataframe tbody tr th {\n",
       "        vertical-align: top;\n",
       "    }\n",
       "\n",
       "    .dataframe thead th {\n",
       "        text-align: right;\n",
       "    }\n",
       "</style>\n",
       "<table border=\"1\" class=\"dataframe\">\n",
       "  <thead>\n",
       "    <tr style=\"text-align: right;\">\n",
       "      <th></th>\n",
       "      <th>Variance</th>\n",
       "      <th>Number of Principal Components</th>\n",
       "    </tr>\n",
       "  </thead>\n",
       "  <tbody>\n",
       "    <tr>\n",
       "      <th>0</th>\n",
       "      <td>0.121949</td>\n",
       "      <td>1</td>\n",
       "    </tr>\n",
       "    <tr>\n",
       "      <th>1</th>\n",
       "      <td>0.206827</td>\n",
       "      <td>2</td>\n",
       "    </tr>\n",
       "    <tr>\n",
       "      <th>2</th>\n",
       "      <td>0.274596</td>\n",
       "      <td>3</td>\n",
       "    </tr>\n",
       "    <tr>\n",
       "      <th>3</th>\n",
       "      <td>0.329414</td>\n",
       "      <td>4</td>\n",
       "    </tr>\n",
       "    <tr>\n",
       "      <th>4</th>\n",
       "      <td>0.366718</td>\n",
       "      <td>5</td>\n",
       "    </tr>\n",
       "  </tbody>\n",
       "</table>\n",
       "</div>"
      ],
      "text/plain": [
       "   Variance  Number of Principal Components\n",
       "0  0.121949                               1\n",
       "1  0.206827                               2\n",
       "2  0.274596                               3\n",
       "3  0.329414                               4\n",
       "4  0.366718                               5"
      ]
     },
     "execution_count": 36,
     "metadata": {},
     "output_type": "execute_result"
    }
   ],
   "source": [
    "plot_df = pd.DataFrame(data = {\n",
    "    \"Variance\":np.real(var_explained),\n",
    "    \"Number of Principal Components\": list(range(1,len(var_explained)+1))\n",
    "})\n",
    "\n",
    "plot_df.head()"
   ]
  },
  {
   "cell_type": "code",
   "execution_count": 37,
   "metadata": {},
   "outputs": [
    {
     "name": "stdout",
     "output_type": "stream",
     "text": [
      "False\n",
      "False\n"
     ]
    }
   ],
   "source": [
    "print(plot_df['Number of Principal Components'].isnull().values.any())\n",
    "print(plot_df['Variance'].isnull().values.any())"
   ]
  },
  {
   "cell_type": "code",
   "execution_count": 38,
   "metadata": {},
   "outputs": [
    {
     "name": "stderr",
     "output_type": "stream",
     "text": [
      "C:\\Users\\kxu97\\anaconda3\\lib\\site-packages\\plotnine\\geoms\\geom_path.py:75: PlotnineWarning: geom_path: Removed 4000 rows containing missing values.\n"
     ]
    },
    {
     "data": {
      "image/png": "[encoded data removed]",
      "text/plain": [
       "<Figure size 640x480 with 1 Axes>"
      ]
     },
     "metadata": {},
     "output_type": "display_data"
    },
    {
     "data": {
      "text/plain": [
       "<ggplot: (161895239412)>"
      ]
     },
     "execution_count": 38,
     "metadata": {},
     "output_type": "execute_result"
    }
   ],
   "source": [
    "#: Variance against Number of Principal Components\n",
    "var_plot = p9.ggplot(data = plot_df)\n",
    "var_plot += p9.aes(x = \"Number of Principal Components\", y = \"Variance\")\n",
    "var_plot += p9.geom_line()\n",
    "var_plot += p9.xlim(0,3500)\n",
    "\n",
    "var_plot"
   ]
  },
  {
   "cell_type": "code",
   "execution_count": 39,
   "metadata": {},
   "outputs": [
    {
     "data": {
      "text/plain": [
       "(25231, 7500)"
      ]
     },
     "execution_count": 39,
     "metadata": {},
     "output_type": "execute_result"
    }
   ],
   "source": [
    "np.shape(dat_standard) # nxp: 25231 x 7500"
   ]
  },
  {
   "cell_type": "code",
   "execution_count": 40,
   "metadata": {},
   "outputs": [
    {
     "data": {
      "text/plain": [
       "(7500, 7500)"
      ]
     },
     "execution_count": 40,
     "metadata": {},
     "output_type": "execute_result"
    }
   ],
   "source": [
    "np.shape(evecs) # kxp: "
   ]
  },
  {
   "cell_type": "code",
   "execution_count": 41,
   "metadata": {},
   "outputs": [],
   "source": [
    "evecs_transform = evecs[0:280,:] # 280 x 7500"
   ]
  },
  {
   "cell_type": "code",
   "execution_count": 42,
   "metadata": {},
   "outputs": [],
   "source": [
    "dat_transform = dat_standard@(evecs_transform.T)  "
   ]
  },
  {
   "cell_type": "code",
   "execution_count": 43,
   "metadata": {},
   "outputs": [
    {
     "data": {
      "text/plain": [
       "(25231, 280)"
      ]
     },
     "execution_count": 43,
     "metadata": {},
     "output_type": "execute_result"
    }
   ],
   "source": [
    "np.shape(dat_transform) #np.shape(dat_transform)"
   ]
  },
  {
   "cell_type": "code",
   "execution_count": 45,
   "metadata": {},
   "outputs": [
    {
     "data": {
      "text/plain": [
       "0.8706981361076647"
      ]
     },
     "execution_count": 45,
     "metadata": {},
     "output_type": "execute_result"
    }
   ],
   "source": [
    "subset_var_explained = var_explained[280]\n",
    "subset_var_explained"
   ]
  },
  {
   "cell_type": "markdown",
   "metadata": {},
   "source": [
    "### Without-PCA data: (kernel, neural network)\n",
    "* 25231 x 750"
   ]
  },
  {
   "cell_type": "code",
   "execution_count": 48,
   "metadata": {},
   "outputs": [],
   "source": [
    "savez_compressed(\"dat_standard.npz\", dat_standard)\n",
    "savez_compressed(\"response.npz\", response)\n",
    "\n",
    "# to load in data in other notebooks use this:\n",
    "\n",
    "#load in data matrix:\n",
    "#dat = np.load(\"dat_standard.npz\")\n",
    "\n",
    "#extract data matrix from npz file:\n",
    "#dat = dat[\"arr_0\"]   "
   ]
  },
  {
   "cell_type": "markdown",
   "metadata": {},
   "source": [
    "### With-PCA data:(for knn)\n",
    "- Reduced data from 7500 variables to 500. \n",
    "- The 500 variables account for 91.223% of total variance in the data.\n",
    "- Transformed data has dimensions: 25231 x 500. (25231 observations, 500 features)"
   ]
  },
  {
   "cell_type": "code",
   "execution_count": 46,
   "metadata": {},
   "outputs": [],
   "source": [
    "savez_compressed(\"dat_transform.npz\", dat_transform)\n",
    "\n",
    "# to load in data in other notebooks use this:\n",
    "\n",
    "#load in data matrix:\n",
    "#dat = np.load(\"img_array.npz\")\n",
    "\n",
    "#extract data matrix from npz file:\n",
    "#dat = dat[\"arr_0\"]   "
   ]
  },
  {
   "cell_type": "code",
   "execution_count": 47,
   "metadata": {},
   "outputs": [],
   "source": [
    "savez_compressed(\"response.npz\", response)"
   ]
  }
 ],
 "metadata": {
  "interpreter": {
   "hash": "0d1572b24cebab15a5e067a3c9126555a08a757badce4d8bf9b99662bf38ab5c"
  },
  "kernelspec": {
   "display_name": "Python 3",
   "language": "python",
   "name": "python3"
  },
  "language_info": {
   "codemirror_mode": {
    "name": "ipython",
    "version": 3
   },
   "file_extension": ".py",
   "mimetype": "text/x-python",
   "name": "python",
   "nbconvert_exporter": "python",
   "pygments_lexer": "ipython3",
   "version": "3.8.8"
  }
 },
 "nbformat": 4,
 "nbformat_minor": 2
}
